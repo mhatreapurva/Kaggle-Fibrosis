{
 "metadata": {
  "language_info": {
   "codemirror_mode": {
    "name": "ipython",
    "version": 3
   },
   "file_extension": ".py",
   "mimetype": "text/x-python",
   "name": "python",
   "nbconvert_exporter": "python",
   "pygments_lexer": "ipython3",
   "version": "3.8.1-final"
  },
  "orig_nbformat": 2,
  "kernelspec": {
   "name": "python_defaultSpec_1599630529274",
   "display_name": "Python 3.8.1 64-bit"
  }
 },
 "nbformat": 4,
 "nbformat_minor": 2,
 "cells": [
  {
   "cell_type": "code",
   "execution_count": 2,
   "metadata": {},
   "outputs": [],
   "source": [
    "import pandas as pd\n",
    "import numpy as np\n",
    "import seaborn as sns \n",
    "import math\n",
    "import matplotlib.pyplot as plt \n",
    "import os \n",
    "import pydicom\n",
    "\n",
    "data_path = \"D:\\\\Kaggle\\\\PulmonaryFibrosisProgression\"\n",
    "data_set = pd.read_csv(data_path + \"\\\\train.csv\")\n"
   ]
  },
  {
   "cell_type": "code",
   "execution_count": 3,
   "metadata": {
    "tags": []
   },
   "outputs": [
    {
     "output_type": "stream",
     "name": "stdout",
     "text": "176/176"
    }
   ],
   "source": [
    "def load_scan(path):\n",
    "    slices = [pydicom.dcmread(path + \"\\\\\" + s) for s in os.listdir(path)]\n",
    "    slices = [s for s in slices if \"SliceLocation\" in s]\n",
    "    slices.sort(key = lambda x: int(x.InstanceNumber))\n",
    "    # try:\n",
    "    #     slice_thickness = np.abs(slices[0].ImagePositionPatient[2] - slices[1].ImagePositionPatient[2])\n",
    "    # except:\n",
    "    #     slice_thickness = np.abs(slices[0].SliceLocation - slices[1].SliceLocation)\n",
    "\n",
    "    # for s in slices:\n",
    "    #     s.SliceThickness = slice_thickness\n",
    "\n",
    "    return slices\n",
    "\n",
    "test_files = os.listdir(data_path + \"\\\\train\\\\\")\n",
    "i=0\n",
    "patient_dicom = []\n",
    "\n",
    "for f in test_files:\n",
    "    patient_dicom.append(load_scan(data_path + \"\\\\train\\\\\" + f))\n",
    "    i+=1\n",
    "    print(\"\\r%d/%d\"%(i,len(test_files)), end=\"\\r\")"
   ]
  },
  {
   "cell_type": "code",
   "execution_count": null,
   "metadata": {},
   "outputs": [],
   "source": [
    "def get_pixel_scan(ct_scan):\n",
    "    img = np.stack([s.pixel_array for s in ct_scan])\n",
    "    img = img.astype(np.int16)\n",
    "    img[img == -2000] = 0\n",
    "    return np.array(img, dtype=np.int16)\n",
    "\n",
    "output_path = data_path + \"\\\\scanOP\\\\\"\n",
    "\n",
    "scan = get_pixel_scan(patient_dicom[1])\n",
    "\n",
    "\n",
    "#Loop to convert all dicom to scans \n",
    "# i = 0\n",
    "# for data in patient_dicom:\n",
    "#     try:\n",
    "#         scan = get_pixel_scan(data)\n",
    "#         np.save(output_path + \"scanImage_%s.npy\"% (data[0].PatientID), scan)\n",
    "#         i += 1\n",
    "#         print(\"\\rConverted scan and saved %d/%d\" % (i,len(patient_dicom)), end=\"\\r\")\n",
    "#     except:\n",
    "#         pass\n",
    "\n"
   ]
  },
  {
   "cell_type": "code",
   "execution_count": null,
   "metadata": {},
   "outputs": [],
   "source": [
    "#Retrieve direct scan for one user\n"
   ]
  },
  {
   "cell_type": "code",
   "execution_count": 4,
   "metadata": {},
   "outputs": [
    {
     "output_type": "error",
     "ename": "NameError",
     "evalue": "name 'grp' is not defined",
     "traceback": [
      "\u001b[1;31m---------------------------------------------------------------------------\u001b[0m",
      "\u001b[1;31mNameError\u001b[0m                                 Traceback (most recent call last)",
      "\u001b[1;32m<ipython-input-4-9779b9ff35ca>\u001b[0m in \u001b[0;36m<module>\u001b[1;34m\u001b[0m\n\u001b[0;32m      1\u001b[0m \u001b[0moutput_path\u001b[0m \u001b[1;33m=\u001b[0m \u001b[0mdata_path\u001b[0m \u001b[1;33m+\u001b[0m \u001b[1;34m\"\\\\scanOP\\\\\"\u001b[0m\u001b[1;33m\u001b[0m\u001b[1;33m\u001b[0m\u001b[0m\n\u001b[0;32m      2\u001b[0m \u001b[1;33m\u001b[0m\u001b[0m\n\u001b[1;32m----> 3\u001b[1;33m \u001b[0mscan_retrieve\u001b[0m \u001b[1;33m=\u001b[0m \u001b[0moutput_path\u001b[0m \u001b[1;33m+\u001b[0m \u001b[1;34m\"\\\\scanImage_%s.npy\"\u001b[0m\u001b[1;33m%\u001b[0m \u001b[1;33m(\u001b[0m\u001b[0mgrp\u001b[0m\u001b[1;33m.\u001b[0m\u001b[0mindex\u001b[0m\u001b[1;33m[\u001b[0m\u001b[1;36m4\u001b[0m\u001b[1;33m]\u001b[0m\u001b[1;33m)\u001b[0m\u001b[1;33m\u001b[0m\u001b[1;33m\u001b[0m\u001b[0m\n\u001b[0m\u001b[0;32m      4\u001b[0m \u001b[0mscan\u001b[0m \u001b[1;33m=\u001b[0m \u001b[0mnp\u001b[0m\u001b[1;33m.\u001b[0m\u001b[0mload\u001b[0m\u001b[1;33m(\u001b[0m\u001b[0mscan_retrieve\u001b[0m\u001b[1;33m)\u001b[0m\u001b[1;33m.\u001b[0m\u001b[0mastype\u001b[0m\u001b[1;33m(\u001b[0m\u001b[0mnp\u001b[0m\u001b[1;33m.\u001b[0m\u001b[0mfloat64\u001b[0m\u001b[1;33m)\u001b[0m\u001b[1;33m\u001b[0m\u001b[1;33m\u001b[0m\u001b[0m\n\u001b[0;32m      5\u001b[0m \u001b[1;33m\u001b[0m\u001b[0m\n",
      "\u001b[1;31mNameError\u001b[0m: name 'grp' is not defined"
     ]
    }
   ],
   "source": [
    "output_path = data_path + \"\\\\scanOP\\\\\"\n",
    "\n",
    "scan_retrieve = output_path + \"\\\\scanImage_%s.npy\"% (grp.index[4])\n",
    "scan = np.load(scan_retrieve).astype(np.float64)\n",
    "\n",
    "\n",
    "\n",
    "# sns.distplot(scan.flatten() )\n",
    "\n",
    "def scan_slice_spread(stack, rows=6, cols=6):\n",
    "\n",
    "    plt.hist(scan.flatten(), bins=50, color='c')\n",
    "    plt.xlabel(\"Hounsfield Units (HU)\")\n",
    "    plt.ylabel(\"Frequency\")\n",
    "    \n",
    "    fig, ax = plt.subplots(rows,cols,figsize = [14,14])\n",
    "    resolution = len(stack)\n",
    "    grid_size = rows*cols\n",
    "    if(resolution > grid_size):\n",
    "        slices = int(resolution / grid_size)\n",
    "    else: slices = 1\n",
    "    ind = 0\n",
    "\n",
    "    for i in range(grid_size):\n",
    "        ind = ind + slices\n",
    "\n",
    "        ax[int(i/rows), int(i%rows)].set_title('slice %d' % (ind))\n",
    "        ax[int(i/rows), int(i%rows)].imshow(stack[ind], cmap=\"twilight\")\n",
    "        ax[int(i/rows), int(i%rows)].axis('off')\n",
    "    plt.show()\n",
    "\n",
    "\n",
    "scan_slice_spread(scan)"
   ]
  }
 ]
}