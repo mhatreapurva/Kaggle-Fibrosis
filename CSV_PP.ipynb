{
 "metadata": {
  "language_info": {
   "codemirror_mode": {
    "name": "ipython",
    "version": 3
   },
   "file_extension": ".py",
   "mimetype": "text/x-python",
   "name": "python",
   "nbconvert_exporter": "python",
   "pygments_lexer": "ipython3",
   "version": "3.8.1-final"
  },
  "orig_nbformat": 2,
  "kernelspec": {
   "name": "python_defaultSpec_1599826843195",
   "display_name": "Python 3.8.1 64-bit"
  }
 },
 "nbformat": 4,
 "nbformat_minor": 2,
 "cells": [
  {
   "cell_type": "code",
   "execution_count": 1,
   "metadata": {},
   "outputs": [],
   "source": [
    "import pandas as pd\n",
    "import numpy as np\n",
    "import seaborn as sns \n",
    "import math\n",
    "import matplotlib.pyplot as plt \n",
    "import os \n",
    "from sklearn.linear_model import LinearRegression\n",
    "from statistics import mean\n",
    "from sklearn import preprocessing as prep\n",
    "\n",
    "# data_path = \"D:\\\\Kaggle\\\\PulmonaryFibrosisProgression\"\n"
   ]
  },
  {
   "cell_type": "code",
   "execution_count": 2,
   "metadata": {
    "tags": []
   },
   "outputs": [],
   "source": [
    "train = pd.read_csv(\"traindata.csv\")\n",
    "test = pd.read_csv(\"testdata.csv\")\n",
    "submit = pd.read_csv(\"sample_submission.csv\")\n"
   ]
  },
  {
   "cell_type": "code",
   "execution_count": 3,
   "metadata": {
    "tags": []
   },
   "outputs": [
    {
     "output_type": "stream",
     "name": "stdout",
     "text": "<class 'pandas.core.frame.DataFrame'>\nRangeIndex: 1549 entries, 0 to 1548\nData columns (total 7 columns):\n #   Column         Non-Null Count  Dtype  \n---  ------         --------------  -----  \n 0   Patient        1549 non-null   object \n 1   Weeks          1549 non-null   int64  \n 2   FVC            1549 non-null   int64  \n 3   Percent        1549 non-null   float64\n 4   Age            1549 non-null   int64  \n 5   Sex            1549 non-null   object \n 6   SmokingStatus  1549 non-null   object \ndtypes: float64(1), int64(3), object(3)\nmemory usage: 84.8+ KB\n"
    }
   ],
   "source": [
    "train.info()"
   ]
  },
  {
   "source": [
    "Training set has <b>1549</b> enteries<br>\n",
    "It has <b>176</b> unique "
   ],
   "cell_type": "markdown",
   "metadata": {}
  },
  {
   "cell_type": "code",
   "execution_count": 4,
   "metadata": {
    "tags": []
   },
   "outputs": [],
   "source": [
    "submit['Patient'] = submit['Patient_Week'].apply(lambda x :x.split('_')[0])\n",
    "submit['Weeks'] = submit['Patient_Week'].apply(lambda x :x.split('_')[-1])\n",
    "\n",
    "submit = submit.drop('FVC', axis=1)\n",
    "submit = submit[['Patient', 'Weeks', 'Confidence', 'Patient_Week']]\n",
    "submit = submit.merge(test.drop('Weeks',axis=1), on='Patient')  \n",
    "\n",
    "#730 is the 5 records for 146 patients"
   ]
  },
  {
   "cell_type": "code",
   "execution_count": 5,
   "metadata": {
    "tags": []
   },
   "outputs": [],
   "source": [
    "submit = submit[['Patient', 'Weeks','FVC','Percent', 'Age', 'Sex','SmokingStatus' ,'Confidence', 'Patient_Week']] #Reordering\n"
   ]
  },
  {
   "cell_type": "code",
   "execution_count": 6,
   "metadata": {},
   "outputs": [],
   "source": [
    "#Adding indicator for dataset identification\n",
    "\n",
    "train[\"Dataset\"] = 'Train'\n",
    "test[\"Dataset\"] = 'Test'\n",
    "submit[\"Dataset\"] = 'Submission'"
   ]
  },
  {
   "cell_type": "code",
   "execution_count": 7,
   "metadata": {
    "tags": []
   },
   "outputs": [
    {
     "output_type": "execute_result",
     "data": {
      "text/plain": "                        Patient  Weeks   FVC    Percent  Age     Sex  \\\n167   ID00048637202185016727717      9  1477  64.514720   70  Female   \n166   ID00048637202185016727717      9  1375  60.059404   70  Female   \n227   ID00068637202190879923934     11  2827  83.609369   73    Male   \n226   ID00068637202190879923934     11  2794  82.633385   73    Male   \n306   ID00089637202204675567570      7  2478  57.967624   63    Male   \n307   ID00089637202204675567570      7  2539  59.394592   63    Male   \n465   ID00125637202218590429387      8  2349  53.757781   65    Male   \n466   ID00125637202218590429387      8  2584  59.135848   65    Male   \n750   ID00199637202248141386743      5  2672  64.728682   62    Male   \n751   ID00199637202248141386743      5  2683  64.995155   62    Male   \n920   ID00240637202264138860065      5  2991  78.421605   63    Male   \n921   ID00240637202264138860065      5  3132  82.118511   63    Male   \n1521  ID00421637202311550012437     70  2628  78.720345   68    Male   \n1522  ID00421637202311550012437     70  2719  81.446202   68    Male   \n\n     SmokingStatus Dataset  \n167   Never smoked   Train  \n166   Never smoked   Train  \n227      Ex-smoker   Train  \n226      Ex-smoker   Train  \n306   Never smoked   Train  \n307   Never smoked   Train  \n465   Never smoked   Train  \n466   Never smoked   Train  \n750      Ex-smoker   Train  \n751      Ex-smoker   Train  \n920      Ex-smoker   Train  \n921      Ex-smoker   Train  \n1521     Ex-smoker   Train  \n1522     Ex-smoker   Train  ",
      "text/html": "<div>\n<style scoped>\n    .dataframe tbody tr th:only-of-type {\n        vertical-align: middle;\n    }\n\n    .dataframe tbody tr th {\n        vertical-align: top;\n    }\n\n    .dataframe thead th {\n        text-align: right;\n    }\n</style>\n<table border=\"1\" class=\"dataframe\">\n  <thead>\n    <tr style=\"text-align: right;\">\n      <th></th>\n      <th>Patient</th>\n      <th>Weeks</th>\n      <th>FVC</th>\n      <th>Percent</th>\n      <th>Age</th>\n      <th>Sex</th>\n      <th>SmokingStatus</th>\n      <th>Dataset</th>\n    </tr>\n  </thead>\n  <tbody>\n    <tr>\n      <th>167</th>\n      <td>ID00048637202185016727717</td>\n      <td>9</td>\n      <td>1477</td>\n      <td>64.514720</td>\n      <td>70</td>\n      <td>Female</td>\n      <td>Never smoked</td>\n      <td>Train</td>\n    </tr>\n    <tr>\n      <th>166</th>\n      <td>ID00048637202185016727717</td>\n      <td>9</td>\n      <td>1375</td>\n      <td>60.059404</td>\n      <td>70</td>\n      <td>Female</td>\n      <td>Never smoked</td>\n      <td>Train</td>\n    </tr>\n    <tr>\n      <th>227</th>\n      <td>ID00068637202190879923934</td>\n      <td>11</td>\n      <td>2827</td>\n      <td>83.609369</td>\n      <td>73</td>\n      <td>Male</td>\n      <td>Ex-smoker</td>\n      <td>Train</td>\n    </tr>\n    <tr>\n      <th>226</th>\n      <td>ID00068637202190879923934</td>\n      <td>11</td>\n      <td>2794</td>\n      <td>82.633385</td>\n      <td>73</td>\n      <td>Male</td>\n      <td>Ex-smoker</td>\n      <td>Train</td>\n    </tr>\n    <tr>\n      <th>306</th>\n      <td>ID00089637202204675567570</td>\n      <td>7</td>\n      <td>2478</td>\n      <td>57.967624</td>\n      <td>63</td>\n      <td>Male</td>\n      <td>Never smoked</td>\n      <td>Train</td>\n    </tr>\n    <tr>\n      <th>307</th>\n      <td>ID00089637202204675567570</td>\n      <td>7</td>\n      <td>2539</td>\n      <td>59.394592</td>\n      <td>63</td>\n      <td>Male</td>\n      <td>Never smoked</td>\n      <td>Train</td>\n    </tr>\n    <tr>\n      <th>465</th>\n      <td>ID00125637202218590429387</td>\n      <td>8</td>\n      <td>2349</td>\n      <td>53.757781</td>\n      <td>65</td>\n      <td>Male</td>\n      <td>Never smoked</td>\n      <td>Train</td>\n    </tr>\n    <tr>\n      <th>466</th>\n      <td>ID00125637202218590429387</td>\n      <td>8</td>\n      <td>2584</td>\n      <td>59.135848</td>\n      <td>65</td>\n      <td>Male</td>\n      <td>Never smoked</td>\n      <td>Train</td>\n    </tr>\n    <tr>\n      <th>750</th>\n      <td>ID00199637202248141386743</td>\n      <td>5</td>\n      <td>2672</td>\n      <td>64.728682</td>\n      <td>62</td>\n      <td>Male</td>\n      <td>Ex-smoker</td>\n      <td>Train</td>\n    </tr>\n    <tr>\n      <th>751</th>\n      <td>ID00199637202248141386743</td>\n      <td>5</td>\n      <td>2683</td>\n      <td>64.995155</td>\n      <td>62</td>\n      <td>Male</td>\n      <td>Ex-smoker</td>\n      <td>Train</td>\n    </tr>\n    <tr>\n      <th>920</th>\n      <td>ID00240637202264138860065</td>\n      <td>5</td>\n      <td>2991</td>\n      <td>78.421605</td>\n      <td>63</td>\n      <td>Male</td>\n      <td>Ex-smoker</td>\n      <td>Train</td>\n    </tr>\n    <tr>\n      <th>921</th>\n      <td>ID00240637202264138860065</td>\n      <td>5</td>\n      <td>3132</td>\n      <td>82.118511</td>\n      <td>63</td>\n      <td>Male</td>\n      <td>Ex-smoker</td>\n      <td>Train</td>\n    </tr>\n    <tr>\n      <th>1521</th>\n      <td>ID00421637202311550012437</td>\n      <td>70</td>\n      <td>2628</td>\n      <td>78.720345</td>\n      <td>68</td>\n      <td>Male</td>\n      <td>Ex-smoker</td>\n      <td>Train</td>\n    </tr>\n    <tr>\n      <th>1522</th>\n      <td>ID00421637202311550012437</td>\n      <td>70</td>\n      <td>2719</td>\n      <td>81.446202</td>\n      <td>68</td>\n      <td>Male</td>\n      <td>Ex-smoker</td>\n      <td>Train</td>\n    </tr>\n  </tbody>\n</table>\n</div>"
     },
     "metadata": {},
     "execution_count": 7
    }
   ],
   "source": [
    "train.iloc[train.duplicated(['Patient', 'Weeks'], keep=False).sort_values(ascending=False).head(14).index].sort_values(by=['Patient'])"
   ]
  },
  {
   "source": [
    "After checking dataset for duplicates it was found that there are seven patients who recorded more than one(here two) FVC readings for the same week. To establish consistency the average of readings was taken and then added back to the database for both <b>FVC</b> and <b>Percent</b>."
   ],
   "cell_type": "markdown",
   "metadata": {}
  },
  {
   "cell_type": "code",
   "execution_count": 8,
   "metadata": {
    "tags": []
   },
   "outputs": [
    {
     "output_type": "execute_result",
     "data": {
      "text/plain": "176"
     },
     "metadata": {},
     "execution_count": 8
    }
   ],
   "source": [
    "temp = train.groupby(['Patient', 'Weeks'], as_index=False)['FVC','Percent'].mean()\n",
    "\n",
    "train = train.drop_duplicates(['Patient','Weeks']).drop(['FVC','Percent'],axis=1).merge(temp, on=['Patient', 'Weeks'])\n",
    "len(train['Patient'].unique())"
   ]
  },
  {
   "cell_type": "code",
   "execution_count": 29,
   "metadata": {
    "tags": []
   },
   "outputs": [
    {
     "output_type": "execute_result",
     "data": {
      "text/plain": "             Weeks          Age          FVC      Percent\ncount  1542.000000  1542.000000  1542.000000  1542.000000\nmean     31.931907    67.192607  2691.263294    77.710239\nstd      23.229854     7.068397   833.927148    19.847108\nmin      -5.000000    49.000000   827.000000    28.877577\n25%      12.000000    63.000000  2108.250000    62.840249\n50%      28.000000    68.000000  2642.000000    75.677774\n75%      47.000000    72.000000  3175.000000    88.650583\nmax     133.000000    88.000000  6399.000000   153.145378",
      "text/html": "<div>\n<style scoped>\n    .dataframe tbody tr th:only-of-type {\n        vertical-align: middle;\n    }\n\n    .dataframe tbody tr th {\n        vertical-align: top;\n    }\n\n    .dataframe thead th {\n        text-align: right;\n    }\n</style>\n<table border=\"1\" class=\"dataframe\">\n  <thead>\n    <tr style=\"text-align: right;\">\n      <th></th>\n      <th>Weeks</th>\n      <th>Age</th>\n      <th>FVC</th>\n      <th>Percent</th>\n    </tr>\n  </thead>\n  <tbody>\n    <tr>\n      <th>count</th>\n      <td>1542.000000</td>\n      <td>1542.000000</td>\n      <td>1542.000000</td>\n      <td>1542.000000</td>\n    </tr>\n    <tr>\n      <th>mean</th>\n      <td>31.931907</td>\n      <td>67.192607</td>\n      <td>2691.263294</td>\n      <td>77.710239</td>\n    </tr>\n    <tr>\n      <th>std</th>\n      <td>23.229854</td>\n      <td>7.068397</td>\n      <td>833.927148</td>\n      <td>19.847108</td>\n    </tr>\n    <tr>\n      <th>min</th>\n      <td>-5.000000</td>\n      <td>49.000000</td>\n      <td>827.000000</td>\n      <td>28.877577</td>\n    </tr>\n    <tr>\n      <th>25%</th>\n      <td>12.000000</td>\n      <td>63.000000</td>\n      <td>2108.250000</td>\n      <td>62.840249</td>\n    </tr>\n    <tr>\n      <th>50%</th>\n      <td>28.000000</td>\n      <td>68.000000</td>\n      <td>2642.000000</td>\n      <td>75.677774</td>\n    </tr>\n    <tr>\n      <th>75%</th>\n      <td>47.000000</td>\n      <td>72.000000</td>\n      <td>3175.000000</td>\n      <td>88.650583</td>\n    </tr>\n    <tr>\n      <th>max</th>\n      <td>133.000000</td>\n      <td>88.000000</td>\n      <td>6399.000000</td>\n      <td>153.145378</td>\n    </tr>\n  </tbody>\n</table>\n</div>"
     },
     "metadata": {},
     "execution_count": 29
    }
   ],
   "source": [
    "train.describe()"
   ]
  },
  {
   "cell_type": "code",
   "execution_count": 23,
   "metadata": {},
   "outputs": [
    {
     "output_type": "execute_result",
     "data": {
      "text/plain": "                        Patient  Weeks  Age   Sex SmokingStatus Dataset  \\\n0     ID00007637202177411956430     -4   79  Male     Ex-smoker   Train   \n1     ID00007637202177411956430      5   79  Male     Ex-smoker   Train   \n2     ID00007637202177411956430      7   79  Male     Ex-smoker   Train   \n3     ID00007637202177411956430      9   79  Male     Ex-smoker   Train   \n4     ID00007637202177411956430     11   79  Male     Ex-smoker   Train   \n...                         ...    ...  ...   ...           ...     ...   \n1537  ID00426637202313170790466     13   73  Male  Never smoked   Train   \n1538  ID00426637202313170790466     19   73  Male  Never smoked   Train   \n1539  ID00426637202313170790466     31   73  Male  Never smoked   Train   \n1540  ID00426637202313170790466     43   73  Male  Never smoked   Train   \n1541  ID00426637202313170790466     59   73  Male  Never smoked   Train   \n\n         FVC    Percent  Required  \n0     2315.0  58.253649    3974.0  \n1     2214.0  55.712129    3974.0  \n2     2061.0  51.862104    3974.0  \n3     2144.0  53.950679    3974.0  \n4     2069.0  52.063412    3974.0  \n...      ...        ...       ...  \n1537  2712.0  66.594637    4072.4  \n1538  2978.0  73.126412    4072.4  \n1539  2908.0  71.407524    4072.4  \n1540  2975.0  73.052745    4072.4  \n1541  2774.0  68.117081    4072.4  \n\n[1542 rows x 9 columns]",
      "text/html": "<div>\n<style scoped>\n    .dataframe tbody tr th:only-of-type {\n        vertical-align: middle;\n    }\n\n    .dataframe tbody tr th {\n        vertical-align: top;\n    }\n\n    .dataframe thead th {\n        text-align: right;\n    }\n</style>\n<table border=\"1\" class=\"dataframe\">\n  <thead>\n    <tr style=\"text-align: right;\">\n      <th></th>\n      <th>Patient</th>\n      <th>Weeks</th>\n      <th>Age</th>\n      <th>Sex</th>\n      <th>SmokingStatus</th>\n      <th>Dataset</th>\n      <th>FVC</th>\n      <th>Percent</th>\n      <th>Required</th>\n    </tr>\n  </thead>\n  <tbody>\n    <tr>\n      <th>0</th>\n      <td>ID00007637202177411956430</td>\n      <td>-4</td>\n      <td>79</td>\n      <td>Male</td>\n      <td>Ex-smoker</td>\n      <td>Train</td>\n      <td>2315.0</td>\n      <td>58.253649</td>\n      <td>3974.0</td>\n    </tr>\n    <tr>\n      <th>1</th>\n      <td>ID00007637202177411956430</td>\n      <td>5</td>\n      <td>79</td>\n      <td>Male</td>\n      <td>Ex-smoker</td>\n      <td>Train</td>\n      <td>2214.0</td>\n      <td>55.712129</td>\n      <td>3974.0</td>\n    </tr>\n    <tr>\n      <th>2</th>\n      <td>ID00007637202177411956430</td>\n      <td>7</td>\n      <td>79</td>\n      <td>Male</td>\n      <td>Ex-smoker</td>\n      <td>Train</td>\n      <td>2061.0</td>\n      <td>51.862104</td>\n      <td>3974.0</td>\n    </tr>\n    <tr>\n      <th>3</th>\n      <td>ID00007637202177411956430</td>\n      <td>9</td>\n      <td>79</td>\n      <td>Male</td>\n      <td>Ex-smoker</td>\n      <td>Train</td>\n      <td>2144.0</td>\n      <td>53.950679</td>\n      <td>3974.0</td>\n    </tr>\n    <tr>\n      <th>4</th>\n      <td>ID00007637202177411956430</td>\n      <td>11</td>\n      <td>79</td>\n      <td>Male</td>\n      <td>Ex-smoker</td>\n      <td>Train</td>\n      <td>2069.0</td>\n      <td>52.063412</td>\n      <td>3974.0</td>\n    </tr>\n    <tr>\n      <th>...</th>\n      <td>...</td>\n      <td>...</td>\n      <td>...</td>\n      <td>...</td>\n      <td>...</td>\n      <td>...</td>\n      <td>...</td>\n      <td>...</td>\n      <td>...</td>\n    </tr>\n    <tr>\n      <th>1537</th>\n      <td>ID00426637202313170790466</td>\n      <td>13</td>\n      <td>73</td>\n      <td>Male</td>\n      <td>Never smoked</td>\n      <td>Train</td>\n      <td>2712.0</td>\n      <td>66.594637</td>\n      <td>4072.4</td>\n    </tr>\n    <tr>\n      <th>1538</th>\n      <td>ID00426637202313170790466</td>\n      <td>19</td>\n      <td>73</td>\n      <td>Male</td>\n      <td>Never smoked</td>\n      <td>Train</td>\n      <td>2978.0</td>\n      <td>73.126412</td>\n      <td>4072.4</td>\n    </tr>\n    <tr>\n      <th>1539</th>\n      <td>ID00426637202313170790466</td>\n      <td>31</td>\n      <td>73</td>\n      <td>Male</td>\n      <td>Never smoked</td>\n      <td>Train</td>\n      <td>2908.0</td>\n      <td>71.407524</td>\n      <td>4072.4</td>\n    </tr>\n    <tr>\n      <th>1540</th>\n      <td>ID00426637202313170790466</td>\n      <td>43</td>\n      <td>73</td>\n      <td>Male</td>\n      <td>Never smoked</td>\n      <td>Train</td>\n      <td>2975.0</td>\n      <td>73.052745</td>\n      <td>4072.4</td>\n    </tr>\n    <tr>\n      <th>1541</th>\n      <td>ID00426637202313170790466</td>\n      <td>59</td>\n      <td>73</td>\n      <td>Male</td>\n      <td>Never smoked</td>\n      <td>Train</td>\n      <td>2774.0</td>\n      <td>68.117081</td>\n      <td>4072.4</td>\n    </tr>\n  </tbody>\n</table>\n<p>1542 rows × 9 columns</p>\n</div>"
     },
     "metadata": {},
     "execution_count": 23
    }
   ],
   "source": [
    " train['Required'] = train['FVC'] / (train['Percent'] / 100)\n"
   ]
  },
  {
   "cell_type": "code",
   "execution_count": 37,
   "metadata": {
    "tags": []
   },
   "outputs": [],
   "source": [
    "train['Required'] = train['Required'].round(decimals = 2)"
   ]
  },
  {
   "cell_type": "code",
   "execution_count": 53,
   "metadata": {},
   "outputs": [
    {
     "output_type": "execute_result",
     "data": {
      "text/plain": "                      Patient  Weeks  Age   Sex SmokingStatus Dataset     FVC  \\\n0   ID00007637202177411956430     -4   79  Male     Ex-smoker   Train  2315.0   \n9   ID00009637202177434476278      8   69  Male     Ex-smoker   Train  3660.0   \n18  ID00010637202177584971671      0   60  Male     Ex-smoker   Train  3523.0   \n27  ID00011637202177653955184      6   72  Male     Ex-smoker   Train  3326.0   \n36  ID00012637202177665765362     33   65  Male  Never smoked   Train  3418.0   \n\n      Percent  Required      Height  \n0   58.253649    3974.0  201.309255  \n9   85.282878    4291.6  202.609481  \n18  94.724672    3719.2  184.406321  \n27  85.987590    3868.0  194.808126  \n36  93.726006    3646.8  185.706546  ",
      "text/html": "<div>\n<style scoped>\n    .dataframe tbody tr th:only-of-type {\n        vertical-align: middle;\n    }\n\n    .dataframe tbody tr th {\n        vertical-align: top;\n    }\n\n    .dataframe thead th {\n        text-align: right;\n    }\n</style>\n<table border=\"1\" class=\"dataframe\">\n  <thead>\n    <tr style=\"text-align: right;\">\n      <th></th>\n      <th>Patient</th>\n      <th>Weeks</th>\n      <th>Age</th>\n      <th>Sex</th>\n      <th>SmokingStatus</th>\n      <th>Dataset</th>\n      <th>FVC</th>\n      <th>Percent</th>\n      <th>Required</th>\n      <th>Height</th>\n    </tr>\n  </thead>\n  <tbody>\n    <tr>\n      <th>0</th>\n      <td>ID00007637202177411956430</td>\n      <td>-4</td>\n      <td>79</td>\n      <td>Male</td>\n      <td>Ex-smoker</td>\n      <td>Train</td>\n      <td>2315.0</td>\n      <td>58.253649</td>\n      <td>3974.0</td>\n      <td>201.309255</td>\n    </tr>\n    <tr>\n      <th>9</th>\n      <td>ID00009637202177434476278</td>\n      <td>8</td>\n      <td>69</td>\n      <td>Male</td>\n      <td>Ex-smoker</td>\n      <td>Train</td>\n      <td>3660.0</td>\n      <td>85.282878</td>\n      <td>4291.6</td>\n      <td>202.609481</td>\n    </tr>\n    <tr>\n      <th>18</th>\n      <td>ID00010637202177584971671</td>\n      <td>0</td>\n      <td>60</td>\n      <td>Male</td>\n      <td>Ex-smoker</td>\n      <td>Train</td>\n      <td>3523.0</td>\n      <td>94.724672</td>\n      <td>3719.2</td>\n      <td>184.406321</td>\n    </tr>\n    <tr>\n      <th>27</th>\n      <td>ID00011637202177653955184</td>\n      <td>6</td>\n      <td>72</td>\n      <td>Male</td>\n      <td>Ex-smoker</td>\n      <td>Train</td>\n      <td>3326.0</td>\n      <td>85.987590</td>\n      <td>3868.0</td>\n      <td>194.808126</td>\n    </tr>\n    <tr>\n      <th>36</th>\n      <td>ID00012637202177665765362</td>\n      <td>33</td>\n      <td>65</td>\n      <td>Male</td>\n      <td>Never smoked</td>\n      <td>Train</td>\n      <td>3418.0</td>\n      <td>93.726006</td>\n      <td>3646.8</td>\n      <td>185.706546</td>\n    </tr>\n  </tbody>\n</table>\n</div>"
     },
     "metadata": {},
     "execution_count": 53
    }
   ],
   "source": [
    "def estimate_height(row, sex):\n",
    "    # if (sex == 'Male'):\n",
    "    #     return (-74.7) / (np.log(row.Required /1000) - 0.544 * np.log(row.Age) + 0.0151 * row.Age - 5.48)\n",
    "    # else:\n",
    "    #     return None\n",
    "    return ((row.Required /1000)  + 0.026 * row.Age + 2.89) / 0.0443\n",
    "\n",
    "\n",
    "train['Height'] = train.apply(lambda x : estimate_height(x, x.Sex),axis=1)\n",
    "train.drop_duplicates(['Patient']).head()"
   ]
  },
  {
   "cell_type": "markdown",
   "metadata": {},
   "source": [
    "## Encoding Training & Testing Data\n",
    "### Categorical encoding the Smoking Status\n",
    "Smoking Status is labelled as follows:<br>\n",
    "0  <-- Currently Smoking <br>\n",
    "1  <-- Ex-Smoker <br>\n",
    "2  <-- Never Smoked  <br>\n",
    "\n",
    "Sex is label encoded and then one hot encoded. <br>\n",
    "1 = Male  0 = Female\n"
   ]
  },
  {
   "cell_type": "code",
   "execution_count": null,
   "metadata": {},
   "outputs": [],
   "source": [
    "labelEnconder = prep.LabelEncoder()\n",
    "oneHotEncoder = prep.OneHotEncoder()\n",
    "\n",
    "train['SmokingStatus'] = labelEnconder.fit_transform(train['SmokingStatus'])\n",
    "train.head()\n"
   ]
  },
  {
   "cell_type": "code",
   "execution_count": null,
   "metadata": {},
   "outputs": [],
   "source": [
    "data_set.head()"
   ]
  },
  {
   "cell_type": "code",
   "execution_count": null,
   "metadata": {},
   "outputs": [],
   "source": [
    "# integerEncd = pd.get_dummies(data_set['Sex'], prefix=\"Sex\")\n",
    "\n",
    "# data_set = data_set.join(integerEncd)\n",
    "data_set = data_set.drop('Sex', axis=1)\n"
   ]
  },
  {
   "cell_type": "code",
   "execution_count": null,
   "metadata": {
    "tags": []
   },
   "outputs": [],
   "source": [
    "patient_db = pd.DataFrame()\n",
    "\n",
    "patient_db = data_set.drop_duplicates(subset = 'Patient').drop(['FVC', 'Percent' ], axis=1)\n",
    "print(\"Number of unique patient data: \", len(patient_db))\n",
    "\n",
    "patient_db.head()"
   ]
  },
  {
   "cell_type": "code",
   "execution_count": null,
   "metadata": {},
   "outputs": [],
   "source": [
    "#Checking for null enteries in database\n",
    "data_set[data_set.isnull().any(axis=1)].head()"
   ]
  },
  {
   "cell_type": "code",
   "execution_count": null,
   "metadata": {
    "tags": []
   },
   "outputs": [],
   "source": [
    "#Grouping Data by Patient ID for easy sorting\n",
    "\n",
    "grp = data_set.copy().groupby(['Patient'])\n",
    "\n",
    "patient_db[\"test_count\"] = grp[\"FVC\"].count().reset_index()[\"FVC\"]\n",
    "\n",
    "# patient_db[patient_db['test_count'].isnull()]  #Checking if counting is done properly\n",
    "patient_db"
   ]
  },
  {
   "cell_type": "code",
   "execution_count": null,
   "metadata": {
    "tags": []
   },
   "outputs": [],
   "source": [
    "print(patient_db.describe())"
   ]
  },
  {
   "cell_type": "markdown",
   "metadata": {},
   "source": [
    "## Plot Patient Data <br>\n"
   ]
  },
  {
   "cell_type": "code",
   "execution_count": null,
   "metadata": {
    "tags": []
   },
   "outputs": [],
   "source": [
    "# sns.set(rc={'figure.figsize':(20,10 )})\n",
    "\n",
    "# f, ax = plt.subplots(figsize = [20,10])\n",
    "\n",
    "def best_fit_slope(xs,ys):\n",
    "    m = (((mean(xs)*mean(ys)) - mean(xs*ys)) /\n",
    "         ((mean(xs)**2) - mean(xs**2)))\n",
    "    return m\n",
    "\n",
    "bfl = []\n",
    "\n",
    "for id, d in grp:\n",
    "    bfl.append(best_fit_slope(d.Weeks, d.FVC))\n",
    "\n",
    "patient_db[\"rate_of_decent\"] = bfl\n",
    "\n",
    "patient_db.head()\n",
    "patient_db.describe()\n",
    "    # ax = sns.regplot (x=\"Weeks\", y=\"FVC\", data = d)\n"
   ]
  },
  {
   "cell_type": "markdown",
   "metadata": {},
   "source": [
    "### Histogram to denote the density of available records per patient"
   ]
  },
  {
   "cell_type": "code",
   "execution_count": 20,
   "metadata": {},
   "outputs": [
    {
     "output_type": "execute_result",
     "data": {
      "text/plain": "<AxesSubplot:xlabel='Weeks', ylabel='Density'>"
     },
     "metadata": {},
     "execution_count": 20
    },
    {
     "output_type": "display_data",
     "data": {
      "text/plain": "<Figure size 432x288 with 1 Axes>",
      "image/svg+xml": "<?xml version=\"1.0\" encoding=\"utf-8\" standalone=\"no\"?>\r\n<!DOCTYPE svg PUBLIC \"-//W3C//DTD SVG 1.1//EN\"\r\n  \"http://www.w3.org/Graphics/SVG/1.1/DTD/svg11.dtd\">\r\n<!-- Created with matplotlib (https://matplotlib.org/) -->\r\n<svg height=\"262.19625pt\" version=\"1.1\" viewBox=\"0 0 392.14375 262.19625\" width=\"392.14375pt\" xmlns=\"http://www.w3.org/2000/svg\" xmlns:xlink=\"http://www.w3.org/1999/xlink\">\r\n <metadata>\r\n  <rdf:RDF xmlns:cc=\"http://creativecommons.org/ns#\" xmlns:dc=\"http://purl.org/dc/elements/1.1/\" xmlns:rdf=\"http://www.w3.org/1999/02/22-rdf-syntax-ns#\">\r\n   <cc:Work>\r\n    <dc:type rdf:resource=\"http://purl.org/dc/dcmitype/StillImage\"/>\r\n    <dc:date>2020-09-11T17:56:31.014212</dc:date>\r\n    <dc:format>image/svg+xml</dc:format>\r\n    <dc:creator>\r\n     <cc:Agent>\r\n      <dc:title>Matplotlib v3.3.1, https://matplotlib.org/</dc:title>\r\n     </cc:Agent>\r\n    </dc:creator>\r\n   </cc:Work>\r\n  </rdf:RDF>\r\n </metadata>\r\n <defs>\r\n  <style type=\"text/css\">*{stroke-linecap:butt;stroke-linejoin:round;}</style>\r\n </defs>\r\n <g id=\"figure_1\">\r\n  <g id=\"patch_1\">\r\n   <path d=\"M 0 262.19625 \r\nL 392.14375 262.19625 \r\nL 392.14375 0 \r\nL 0 0 \r\nz\r\n\" style=\"fill:none;\"/>\r\n  </g>\r\n  <g id=\"axes_1\">\r\n   <g id=\"patch_2\">\r\n    <path d=\"M 50.14375 224.64 \r\nL 384.94375 224.64 \r\nL 384.94375 7.2 \r\nL 50.14375 7.2 \r\nz\r\n\" style=\"fill:#ffffff;\"/>\r\n   </g>\r\n   <g id=\"patch_3\">\r\n    <path clip-path=\"url(#pd993b57e16)\" d=\"M 154.083552 224.64 \r\nL 165.543603 224.64 \r\nL 165.543603 207.382857 \r\nL 154.083552 207.382857 \r\nz\r\n\" style=\"fill:#1f77b4;opacity:0.4;\"/>\r\n   </g>\r\n   <g id=\"patch_4\">\r\n    <path clip-path=\"url(#pd993b57e16)\" d=\"M 165.543603 224.64 \r\nL 177.003654 224.64 \r\nL 177.003654 214.285714 \r\nL 165.543603 214.285714 \r\nz\r\n\" style=\"fill:#1f77b4;opacity:0.4;\"/>\r\n   </g>\r\n   <g id=\"patch_5\">\r\n    <path clip-path=\"url(#pd993b57e16)\" d=\"M 177.003654 224.64 \r\nL 188.463705 224.64 \r\nL 188.463705 207.382857 \r\nL 177.003654 207.382857 \r\nz\r\n\" style=\"fill:#1f77b4;opacity:0.4;\"/>\r\n   </g>\r\n   <g id=\"patch_6\">\r\n    <path clip-path=\"url(#pd993b57e16)\" d=\"M 188.463705 224.64 \r\nL 199.923757 224.64 \r\nL 199.923757 179.771429 \r\nL 188.463705 179.771429 \r\nz\r\n\" style=\"fill:#1f77b4;opacity:0.4;\"/>\r\n   </g>\r\n   <g id=\"patch_7\">\r\n    <path clip-path=\"url(#pd993b57e16)\" d=\"M 199.923757 224.64 \r\nL 211.383808 224.64 \r\nL 211.383808 17.554286 \r\nL 199.923757 17.554286 \r\nz\r\n\" style=\"fill:#1f77b4;opacity:0.4;\"/>\r\n   </g>\r\n   <g id=\"patch_8\">\r\n    <path clip-path=\"url(#pd993b57e16)\" d=\"M 211.383808 224.64 \r\nL 222.843859 224.64 \r\nL 222.843859 128 \r\nL 211.383808 128 \r\nz\r\n\" style=\"fill:#1f77b4;opacity:0.4;\"/>\r\n   </g>\r\n   <g id=\"patch_9\">\r\n    <path clip-path=\"url(#pd993b57e16)\" d=\"M 222.843859 224.64 \r\nL 234.30391 224.64 \r\nL 234.30391 176.32 \r\nL 222.843859 176.32 \r\nz\r\n\" style=\"fill:#1f77b4;opacity:0.4;\"/>\r\n   </g>\r\n   <g id=\"patch_10\">\r\n    <path clip-path=\"url(#pd993b57e16)\" d=\"M 234.30391 224.64 \r\nL 245.763962 224.64 \r\nL 245.763962 183.222857 \r\nL 234.30391 183.222857 \r\nz\r\n\" style=\"fill:#1f77b4;opacity:0.4;\"/>\r\n   </g>\r\n   <g id=\"patch_11\">\r\n    <path clip-path=\"url(#pd993b57e16)\" d=\"M 245.763962 224.64 \r\nL 257.224013 224.64 \r\nL 257.224013 179.771429 \r\nL 245.763962 179.771429 \r\nz\r\n\" style=\"fill:#1f77b4;opacity:0.4;\"/>\r\n   </g>\r\n   <g id=\"patch_12\">\r\n    <path clip-path=\"url(#pd993b57e16)\" d=\"M 257.224013 224.64 \r\nL 268.684064 224.64 \r\nL 268.684064 207.382857 \r\nL 257.224013 207.382857 \r\nz\r\n\" style=\"fill:#1f77b4;opacity:0.4;\"/>\r\n   </g>\r\n   <g id=\"patch_13\">\r\n    <path clip-path=\"url(#pd993b57e16)\" d=\"M 268.684064 224.64 \r\nL 280.144115 224.64 \r\nL 280.144115 186.674286 \r\nL 268.684064 186.674286 \r\nz\r\n\" style=\"fill:#1f77b4;opacity:0.4;\"/>\r\n   </g>\r\n   <g id=\"patch_14\">\r\n    <path clip-path=\"url(#pd993b57e16)\" d=\"M 280.144115 224.64 \r\nL 291.604167 224.64 \r\nL 291.604167 210.834286 \r\nL 280.144115 210.834286 \r\nz\r\n\" style=\"fill:#1f77b4;opacity:0.4;\"/>\r\n   </g>\r\n   <g id=\"patch_15\">\r\n    <path clip-path=\"url(#pd993b57e16)\" d=\"M 291.604167 224.64 \r\nL 303.064218 224.64 \r\nL 303.064218 221.188571 \r\nL 291.604167 221.188571 \r\nz\r\n\" style=\"fill:#1f77b4;opacity:0.4;\"/>\r\n   </g>\r\n   <g id=\"patch_16\">\r\n    <path clip-path=\"url(#pd993b57e16)\" d=\"M 303.064218 224.64 \r\nL 314.524269 224.64 \r\nL 314.524269 221.188571 \r\nL 303.064218 221.188571 \r\nz\r\n\" style=\"fill:#1f77b4;opacity:0.4;\"/>\r\n   </g>\r\n   <g id=\"patch_17\">\r\n    <path clip-path=\"url(#pd993b57e16)\" d=\"M 314.524269 224.64 \r\nL 325.984321 224.64 \r\nL 325.984321 224.64 \r\nL 314.524269 224.64 \r\nz\r\n\" style=\"fill:#1f77b4;opacity:0.4;\"/>\r\n   </g>\r\n   <g id=\"patch_18\">\r\n    <path clip-path=\"url(#pd993b57e16)\" d=\"M 325.984321 224.64 \r\nL 337.444372 224.64 \r\nL 337.444372 221.188571 \r\nL 325.984321 221.188571 \r\nz\r\n\" style=\"fill:#1f77b4;opacity:0.4;\"/>\r\n   </g>\r\n   <g id=\"patch_19\">\r\n    <path clip-path=\"url(#pd993b57e16)\" d=\"M 94.138668 224.64 \r\nL 105.530908 224.64 \r\nL 105.530908 117.008844 \r\nL 94.138668 117.008844 \r\nz\r\n\" style=\"fill:#ff7f0e;opacity:0.4;\"/>\r\n   </g>\r\n   <g id=\"patch_20\">\r\n    <path clip-path=\"url(#pd993b57e16)\" d=\"M 105.530908 224.64 \r\nL 116.923149 224.64 \r\nL 116.923149 57.985306 \r\nL 105.530908 57.985306 \r\nz\r\n\" style=\"fill:#ff7f0e;opacity:0.4;\"/>\r\n   </g>\r\n   <g id=\"patch_21\">\r\n    <path clip-path=\"url(#pd993b57e16)\" d=\"M 116.923149 224.64 \r\nL 128.315389 224.64 \r\nL 128.315389 110.064898 \r\nL 116.923149 110.064898 \r\nz\r\n\" style=\"fill:#ff7f0e;opacity:0.4;\"/>\r\n   </g>\r\n   <g id=\"patch_22\">\r\n    <path clip-path=\"url(#pd993b57e16)\" d=\"M 128.315389 224.64 \r\nL 139.707629 224.64 \r\nL 139.707629 169.088435 \r\nL 128.315389 169.088435 \r\nz\r\n\" style=\"fill:#ff7f0e;opacity:0.4;\"/>\r\n   </g>\r\n   <g id=\"patch_23\">\r\n    <path clip-path=\"url(#pd993b57e16)\" d=\"M 139.707629 224.64 \r\nL 151.09987 224.64 \r\nL 151.09987 179.504354 \r\nL 139.707629 179.504354 \r\nz\r\n\" style=\"fill:#ff7f0e;opacity:0.4;\"/>\r\n   </g>\r\n   <g id=\"patch_24\">\r\n    <path clip-path=\"url(#pd993b57e16)\" d=\"M 151.09987 224.64 \r\nL 162.49211 224.64 \r\nL 162.49211 193.392245 \r\nL 151.09987 193.392245 \r\nz\r\n\" style=\"fill:#ff7f0e;opacity:0.4;\"/>\r\n   </g>\r\n   <g id=\"patch_25\">\r\n    <path clip-path=\"url(#pd993b57e16)\" d=\"M 162.49211 224.64 \r\nL 173.88435 224.64 \r\nL 173.88435 186.448299 \r\nL 162.49211 186.448299 \r\nz\r\n\" style=\"fill:#ff7f0e;opacity:0.4;\"/>\r\n   </g>\r\n   <g id=\"patch_26\">\r\n    <path clip-path=\"url(#pd993b57e16)\" d=\"M 173.88435 224.64 \r\nL 185.27659 224.64 \r\nL 185.27659 200.33619 \r\nL 173.88435 200.33619 \r\nz\r\n\" style=\"fill:#ff7f0e;opacity:0.4;\"/>\r\n   </g>\r\n   <g id=\"patch_27\">\r\n    <path clip-path=\"url(#pd993b57e16)\" d=\"M 185.27659 224.64 \r\nL 196.668831 224.64 \r\nL 196.668831 203.808163 \r\nL 185.27659 203.808163 \r\nz\r\n\" style=\"fill:#ff7f0e;opacity:0.4;\"/>\r\n   </g>\r\n   <g id=\"patch_28\">\r\n    <path clip-path=\"url(#pd993b57e16)\" d=\"M 196.668831 224.64 \r\nL 208.061071 224.64 \r\nL 208.061071 224.64 \r\nL 196.668831 224.64 \r\nz\r\n\" style=\"fill:#ff7f0e;opacity:0.4;\"/>\r\n   </g>\r\n   <g id=\"patch_29\">\r\n    <path clip-path=\"url(#pd993b57e16)\" d=\"M 208.061071 224.64 \r\nL 219.453311 224.64 \r\nL 219.453311 221.168027 \r\nL 208.061071 221.168027 \r\nz\r\n\" style=\"fill:#ff7f0e;opacity:0.4;\"/>\r\n   </g>\r\n   <g id=\"patch_30\">\r\n    <path clip-path=\"url(#pd993b57e16)\" d=\"M 219.453311 224.64 \r\nL 230.845552 224.64 \r\nL 230.845552 224.64 \r\nL 219.453311 224.64 \r\nz\r\n\" style=\"fill:#ff7f0e;opacity:0.4;\"/>\r\n   </g>\r\n   <g id=\"patch_31\">\r\n    <path clip-path=\"url(#pd993b57e16)\" d=\"M 230.845552 224.64 \r\nL 242.237792 224.64 \r\nL 242.237792 221.168027 \r\nL 230.845552 221.168027 \r\nz\r\n\" style=\"fill:#ff7f0e;opacity:0.4;\"/>\r\n   </g>\r\n   <g id=\"matplotlib.axis_1\">\r\n    <g id=\"xtick_1\">\r\n     <g id=\"line2d_1\">\r\n      <defs>\r\n       <path d=\"M 0 0 \r\nL 0 3.5 \r\n\" id=\"me3191b40e8\" style=\"stroke:#000000;stroke-width:0.8;\"/>\r\n      </defs>\r\n      <g>\r\n       <use style=\"stroke:#000000;stroke-width:0.8;\" x=\"58.876972\" xlink:href=\"#me3191b40e8\" y=\"224.64\"/>\r\n      </g>\r\n     </g>\r\n     <g id=\"text_1\">\r\n      <!-- −25 -->\r\n      <g transform=\"translate(48.324628 239.238438)scale(0.1 -0.1)\">\r\n       <defs>\r\n        <path d=\"M 10.59375 35.5 \r\nL 73.1875 35.5 \r\nL 73.1875 27.203125 \r\nL 10.59375 27.203125 \r\nz\r\n\" id=\"DejaVuSans-8722\"/>\r\n        <path d=\"M 19.1875 8.296875 \r\nL 53.609375 8.296875 \r\nL 53.609375 0 \r\nL 7.328125 0 \r\nL 7.328125 8.296875 \r\nQ 12.9375 14.109375 22.625 23.890625 \r\nQ 32.328125 33.6875 34.8125 36.53125 \r\nQ 39.546875 41.84375 41.421875 45.53125 \r\nQ 43.3125 49.21875 43.3125 52.78125 \r\nQ 43.3125 58.59375 39.234375 62.25 \r\nQ 35.15625 65.921875 28.609375 65.921875 \r\nQ 23.96875 65.921875 18.8125 64.3125 \r\nQ 13.671875 62.703125 7.8125 59.421875 \r\nL 7.8125 69.390625 \r\nQ 13.765625 71.78125 18.9375 73 \r\nQ 24.125 74.21875 28.421875 74.21875 \r\nQ 39.75 74.21875 46.484375 68.546875 \r\nQ 53.21875 62.890625 53.21875 53.421875 \r\nQ 53.21875 48.921875 51.53125 44.890625 \r\nQ 49.859375 40.875 45.40625 35.40625 \r\nQ 44.1875 33.984375 37.640625 27.21875 \r\nQ 31.109375 20.453125 19.1875 8.296875 \r\nz\r\n\" id=\"DejaVuSans-50\"/>\r\n        <path d=\"M 10.796875 72.90625 \r\nL 49.515625 72.90625 \r\nL 49.515625 64.59375 \r\nL 19.828125 64.59375 \r\nL 19.828125 46.734375 \r\nQ 21.96875 47.46875 24.109375 47.828125 \r\nQ 26.265625 48.1875 28.421875 48.1875 \r\nQ 40.625 48.1875 47.75 41.5 \r\nQ 54.890625 34.8125 54.890625 23.390625 \r\nQ 54.890625 11.625 47.5625 5.09375 \r\nQ 40.234375 -1.421875 26.90625 -1.421875 \r\nQ 22.3125 -1.421875 17.546875 -0.640625 \r\nQ 12.796875 0.140625 7.71875 1.703125 \r\nL 7.71875 11.625 \r\nQ 12.109375 9.234375 16.796875 8.0625 \r\nQ 21.484375 6.890625 26.703125 6.890625 \r\nQ 35.15625 6.890625 40.078125 11.328125 \r\nQ 45.015625 15.765625 45.015625 23.390625 \r\nQ 45.015625 31 40.078125 35.4375 \r\nQ 35.15625 39.890625 26.703125 39.890625 \r\nQ 22.75 39.890625 18.8125 39.015625 \r\nQ 14.890625 38.140625 10.796875 36.28125 \r\nz\r\n\" id=\"DejaVuSans-53\"/>\r\n       </defs>\r\n       <use xlink:href=\"#DejaVuSans-8722\"/>\r\n       <use x=\"83.789062\" xlink:href=\"#DejaVuSans-50\"/>\r\n       <use x=\"147.412109\" xlink:href=\"#DejaVuSans-53\"/>\r\n      </g>\r\n     </g>\r\n    </g>\r\n    <g id=\"xtick_2\">\r\n     <g id=\"line2d_2\">\r\n      <g>\r\n       <use style=\"stroke:#000000;stroke-width:0.8;\" x=\"102.954092\" xlink:href=\"#me3191b40e8\" y=\"224.64\"/>\r\n      </g>\r\n     </g>\r\n     <g id=\"text_2\">\r\n      <!-- 0 -->\r\n      <g transform=\"translate(99.772842 239.238438)scale(0.1 -0.1)\">\r\n       <defs>\r\n        <path d=\"M 31.78125 66.40625 \r\nQ 24.171875 66.40625 20.328125 58.90625 \r\nQ 16.5 51.421875 16.5 36.375 \r\nQ 16.5 21.390625 20.328125 13.890625 \r\nQ 24.171875 6.390625 31.78125 6.390625 \r\nQ 39.453125 6.390625 43.28125 13.890625 \r\nQ 47.125 21.390625 47.125 36.375 \r\nQ 47.125 51.421875 43.28125 58.90625 \r\nQ 39.453125 66.40625 31.78125 66.40625 \r\nz\r\nM 31.78125 74.21875 \r\nQ 44.046875 74.21875 50.515625 64.515625 \r\nQ 56.984375 54.828125 56.984375 36.375 \r\nQ 56.984375 17.96875 50.515625 8.265625 \r\nQ 44.046875 -1.421875 31.78125 -1.421875 \r\nQ 19.53125 -1.421875 13.0625 8.265625 \r\nQ 6.59375 17.96875 6.59375 36.375 \r\nQ 6.59375 54.828125 13.0625 64.515625 \r\nQ 19.53125 74.21875 31.78125 74.21875 \r\nz\r\n\" id=\"DejaVuSans-48\"/>\r\n       </defs>\r\n       <use xlink:href=\"#DejaVuSans-48\"/>\r\n      </g>\r\n     </g>\r\n    </g>\r\n    <g id=\"xtick_3\">\r\n     <g id=\"line2d_3\">\r\n      <g>\r\n       <use style=\"stroke:#000000;stroke-width:0.8;\" x=\"147.031212\" xlink:href=\"#me3191b40e8\" y=\"224.64\"/>\r\n      </g>\r\n     </g>\r\n     <g id=\"text_3\">\r\n      <!-- 25 -->\r\n      <g transform=\"translate(140.668712 239.238438)scale(0.1 -0.1)\">\r\n       <use xlink:href=\"#DejaVuSans-50\"/>\r\n       <use x=\"63.623047\" xlink:href=\"#DejaVuSans-53\"/>\r\n      </g>\r\n     </g>\r\n    </g>\r\n    <g id=\"xtick_4\">\r\n     <g id=\"line2d_4\">\r\n      <g>\r\n       <use style=\"stroke:#000000;stroke-width:0.8;\" x=\"191.108333\" xlink:href=\"#me3191b40e8\" y=\"224.64\"/>\r\n      </g>\r\n     </g>\r\n     <g id=\"text_4\">\r\n      <!-- 50 -->\r\n      <g transform=\"translate(184.745833 239.238438)scale(0.1 -0.1)\">\r\n       <use xlink:href=\"#DejaVuSans-53\"/>\r\n       <use x=\"63.623047\" xlink:href=\"#DejaVuSans-48\"/>\r\n      </g>\r\n     </g>\r\n    </g>\r\n    <g id=\"xtick_5\">\r\n     <g id=\"line2d_5\">\r\n      <g>\r\n       <use style=\"stroke:#000000;stroke-width:0.8;\" x=\"235.185453\" xlink:href=\"#me3191b40e8\" y=\"224.64\"/>\r\n      </g>\r\n     </g>\r\n     <g id=\"text_5\">\r\n      <!-- 75 -->\r\n      <g transform=\"translate(228.822953 239.238438)scale(0.1 -0.1)\">\r\n       <defs>\r\n        <path d=\"M 8.203125 72.90625 \r\nL 55.078125 72.90625 \r\nL 55.078125 68.703125 \r\nL 28.609375 0 \r\nL 18.3125 0 \r\nL 43.21875 64.59375 \r\nL 8.203125 64.59375 \r\nz\r\n\" id=\"DejaVuSans-55\"/>\r\n       </defs>\r\n       <use xlink:href=\"#DejaVuSans-55\"/>\r\n       <use x=\"63.623047\" xlink:href=\"#DejaVuSans-53\"/>\r\n      </g>\r\n     </g>\r\n    </g>\r\n    <g id=\"xtick_6\">\r\n     <g id=\"line2d_6\">\r\n      <g>\r\n       <use style=\"stroke:#000000;stroke-width:0.8;\" x=\"279.262573\" xlink:href=\"#me3191b40e8\" y=\"224.64\"/>\r\n      </g>\r\n     </g>\r\n     <g id=\"text_6\">\r\n      <!-- 100 -->\r\n      <g transform=\"translate(269.718823 239.238438)scale(0.1 -0.1)\">\r\n       <defs>\r\n        <path d=\"M 12.40625 8.296875 \r\nL 28.515625 8.296875 \r\nL 28.515625 63.921875 \r\nL 10.984375 60.40625 \r\nL 10.984375 69.390625 \r\nL 28.421875 72.90625 \r\nL 38.28125 72.90625 \r\nL 38.28125 8.296875 \r\nL 54.390625 8.296875 \r\nL 54.390625 0 \r\nL 12.40625 0 \r\nz\r\n\" id=\"DejaVuSans-49\"/>\r\n       </defs>\r\n       <use xlink:href=\"#DejaVuSans-49\"/>\r\n       <use x=\"63.623047\" xlink:href=\"#DejaVuSans-48\"/>\r\n       <use x=\"127.246094\" xlink:href=\"#DejaVuSans-48\"/>\r\n      </g>\r\n     </g>\r\n    </g>\r\n    <g id=\"xtick_7\">\r\n     <g id=\"line2d_7\">\r\n      <g>\r\n       <use style=\"stroke:#000000;stroke-width:0.8;\" x=\"323.339693\" xlink:href=\"#me3191b40e8\" y=\"224.64\"/>\r\n      </g>\r\n     </g>\r\n     <g id=\"text_7\">\r\n      <!-- 125 -->\r\n      <g transform=\"translate(313.795943 239.238438)scale(0.1 -0.1)\">\r\n       <use xlink:href=\"#DejaVuSans-49\"/>\r\n       <use x=\"63.623047\" xlink:href=\"#DejaVuSans-50\"/>\r\n       <use x=\"127.246094\" xlink:href=\"#DejaVuSans-53\"/>\r\n      </g>\r\n     </g>\r\n    </g>\r\n    <g id=\"xtick_8\">\r\n     <g id=\"line2d_8\">\r\n      <g>\r\n       <use style=\"stroke:#000000;stroke-width:0.8;\" x=\"367.416814\" xlink:href=\"#me3191b40e8\" y=\"224.64\"/>\r\n      </g>\r\n     </g>\r\n     <g id=\"text_8\">\r\n      <!-- 150 -->\r\n      <g transform=\"translate(357.873064 239.238438)scale(0.1 -0.1)\">\r\n       <use xlink:href=\"#DejaVuSans-49\"/>\r\n       <use x=\"63.623047\" xlink:href=\"#DejaVuSans-53\"/>\r\n       <use x=\"127.246094\" xlink:href=\"#DejaVuSans-48\"/>\r\n      </g>\r\n     </g>\r\n    </g>\r\n    <g id=\"text_9\">\r\n     <!-- Weeks -->\r\n     <g transform=\"translate(201.240625 252.916563)scale(0.1 -0.1)\">\r\n      <defs>\r\n       <path d=\"M 3.328125 72.90625 \r\nL 13.28125 72.90625 \r\nL 28.609375 11.28125 \r\nL 43.890625 72.90625 \r\nL 54.984375 72.90625 \r\nL 70.3125 11.28125 \r\nL 85.59375 72.90625 \r\nL 95.609375 72.90625 \r\nL 77.296875 0 \r\nL 64.890625 0 \r\nL 49.515625 63.28125 \r\nL 33.984375 0 \r\nL 21.578125 0 \r\nz\r\n\" id=\"DejaVuSans-87\"/>\r\n       <path d=\"M 56.203125 29.59375 \r\nL 56.203125 25.203125 \r\nL 14.890625 25.203125 \r\nQ 15.484375 15.921875 20.484375 11.0625 \r\nQ 25.484375 6.203125 34.421875 6.203125 \r\nQ 39.59375 6.203125 44.453125 7.46875 \r\nQ 49.3125 8.734375 54.109375 11.28125 \r\nL 54.109375 2.78125 \r\nQ 49.265625 0.734375 44.1875 -0.34375 \r\nQ 39.109375 -1.421875 33.890625 -1.421875 \r\nQ 20.796875 -1.421875 13.15625 6.1875 \r\nQ 5.515625 13.8125 5.515625 26.8125 \r\nQ 5.515625 40.234375 12.765625 48.109375 \r\nQ 20.015625 56 32.328125 56 \r\nQ 43.359375 56 49.78125 48.890625 \r\nQ 56.203125 41.796875 56.203125 29.59375 \r\nz\r\nM 47.21875 32.234375 \r\nQ 47.125 39.59375 43.09375 43.984375 \r\nQ 39.0625 48.390625 32.421875 48.390625 \r\nQ 24.90625 48.390625 20.390625 44.140625 \r\nQ 15.875 39.890625 15.1875 32.171875 \r\nz\r\n\" id=\"DejaVuSans-101\"/>\r\n       <path d=\"M 9.078125 75.984375 \r\nL 18.109375 75.984375 \r\nL 18.109375 31.109375 \r\nL 44.921875 54.6875 \r\nL 56.390625 54.6875 \r\nL 27.390625 29.109375 \r\nL 57.625 0 \r\nL 45.90625 0 \r\nL 18.109375 26.703125 \r\nL 18.109375 0 \r\nL 9.078125 0 \r\nz\r\n\" id=\"DejaVuSans-107\"/>\r\n       <path d=\"M 44.28125 53.078125 \r\nL 44.28125 44.578125 \r\nQ 40.484375 46.53125 36.375 47.5 \r\nQ 32.28125 48.484375 27.875 48.484375 \r\nQ 21.1875 48.484375 17.84375 46.4375 \r\nQ 14.5 44.390625 14.5 40.28125 \r\nQ 14.5 37.15625 16.890625 35.375 \r\nQ 19.28125 33.59375 26.515625 31.984375 \r\nL 29.59375 31.296875 \r\nQ 39.15625 29.25 43.1875 25.515625 \r\nQ 47.21875 21.78125 47.21875 15.09375 \r\nQ 47.21875 7.46875 41.1875 3.015625 \r\nQ 35.15625 -1.421875 24.609375 -1.421875 \r\nQ 20.21875 -1.421875 15.453125 -0.5625 \r\nQ 10.6875 0.296875 5.421875 2 \r\nL 5.421875 11.28125 \r\nQ 10.40625 8.6875 15.234375 7.390625 \r\nQ 20.0625 6.109375 24.8125 6.109375 \r\nQ 31.15625 6.109375 34.5625 8.28125 \r\nQ 37.984375 10.453125 37.984375 14.40625 \r\nQ 37.984375 18.0625 35.515625 20.015625 \r\nQ 33.0625 21.96875 24.703125 23.78125 \r\nL 21.578125 24.515625 \r\nQ 13.234375 26.265625 9.515625 29.90625 \r\nQ 5.8125 33.546875 5.8125 39.890625 \r\nQ 5.8125 47.609375 11.28125 51.796875 \r\nQ 16.75 56 26.8125 56 \r\nQ 31.78125 56 36.171875 55.265625 \r\nQ 40.578125 54.546875 44.28125 53.078125 \r\nz\r\n\" id=\"DejaVuSans-115\"/>\r\n      </defs>\r\n      <use xlink:href=\"#DejaVuSans-87\"/>\r\n      <use x=\"93.001953\" xlink:href=\"#DejaVuSans-101\"/>\r\n      <use x=\"154.525391\" xlink:href=\"#DejaVuSans-101\"/>\r\n      <use x=\"216.048828\" xlink:href=\"#DejaVuSans-107\"/>\r\n      <use x=\"273.958984\" xlink:href=\"#DejaVuSans-115\"/>\r\n     </g>\r\n    </g>\r\n   </g>\r\n   <g id=\"matplotlib.axis_2\">\r\n    <g id=\"ytick_1\">\r\n     <g id=\"line2d_9\">\r\n      <defs>\r\n       <path d=\"M 0 0 \r\nL -3.5 0 \r\n\" id=\"m631ecb1439\" style=\"stroke:#000000;stroke-width:0.8;\"/>\r\n      </defs>\r\n      <g>\r\n       <use style=\"stroke:#000000;stroke-width:0.8;\" x=\"50.14375\" xlink:href=\"#m631ecb1439\" y=\"224.64\"/>\r\n      </g>\r\n     </g>\r\n     <g id=\"text_10\">\r\n      <!-- 0.00 -->\r\n      <g transform=\"translate(20.878125 228.439219)scale(0.1 -0.1)\">\r\n       <defs>\r\n        <path d=\"M 10.6875 12.40625 \r\nL 21 12.40625 \r\nL 21 0 \r\nL 10.6875 0 \r\nz\r\n\" id=\"DejaVuSans-46\"/>\r\n       </defs>\r\n       <use xlink:href=\"#DejaVuSans-48\"/>\r\n       <use x=\"63.623047\" xlink:href=\"#DejaVuSans-46\"/>\r\n       <use x=\"95.410156\" xlink:href=\"#DejaVuSans-48\"/>\r\n       <use x=\"159.033203\" xlink:href=\"#DejaVuSans-48\"/>\r\n      </g>\r\n     </g>\r\n    </g>\r\n    <g id=\"ytick_2\">\r\n     <g id=\"line2d_10\">\r\n      <g>\r\n       <use style=\"stroke:#000000;stroke-width:0.8;\" x=\"50.14375\" xlink:href=\"#m631ecb1439\" y=\"185.155657\"/>\r\n      </g>\r\n     </g>\r\n     <g id=\"text_11\">\r\n      <!-- 0.01 -->\r\n      <g transform=\"translate(20.878125 188.954876)scale(0.1 -0.1)\">\r\n       <use xlink:href=\"#DejaVuSans-48\"/>\r\n       <use x=\"63.623047\" xlink:href=\"#DejaVuSans-46\"/>\r\n       <use x=\"95.410156\" xlink:href=\"#DejaVuSans-48\"/>\r\n       <use x=\"159.033203\" xlink:href=\"#DejaVuSans-49\"/>\r\n      </g>\r\n     </g>\r\n    </g>\r\n    <g id=\"ytick_3\">\r\n     <g id=\"line2d_11\">\r\n      <g>\r\n       <use style=\"stroke:#000000;stroke-width:0.8;\" x=\"50.14375\" xlink:href=\"#m631ecb1439\" y=\"145.671314\"/>\r\n      </g>\r\n     </g>\r\n     <g id=\"text_12\">\r\n      <!-- 0.02 -->\r\n      <g transform=\"translate(20.878125 149.470533)scale(0.1 -0.1)\">\r\n       <use xlink:href=\"#DejaVuSans-48\"/>\r\n       <use x=\"63.623047\" xlink:href=\"#DejaVuSans-46\"/>\r\n       <use x=\"95.410156\" xlink:href=\"#DejaVuSans-48\"/>\r\n       <use x=\"159.033203\" xlink:href=\"#DejaVuSans-50\"/>\r\n      </g>\r\n     </g>\r\n    </g>\r\n    <g id=\"ytick_4\">\r\n     <g id=\"line2d_12\">\r\n      <g>\r\n       <use style=\"stroke:#000000;stroke-width:0.8;\" x=\"50.14375\" xlink:href=\"#m631ecb1439\" y=\"106.186971\"/>\r\n      </g>\r\n     </g>\r\n     <g id=\"text_13\">\r\n      <!-- 0.03 -->\r\n      <g transform=\"translate(20.878125 109.98619)scale(0.1 -0.1)\">\r\n       <defs>\r\n        <path d=\"M 40.578125 39.3125 \r\nQ 47.65625 37.796875 51.625 33 \r\nQ 55.609375 28.21875 55.609375 21.1875 \r\nQ 55.609375 10.40625 48.1875 4.484375 \r\nQ 40.765625 -1.421875 27.09375 -1.421875 \r\nQ 22.515625 -1.421875 17.65625 -0.515625 \r\nQ 12.796875 0.390625 7.625 2.203125 \r\nL 7.625 11.71875 \r\nQ 11.71875 9.328125 16.59375 8.109375 \r\nQ 21.484375 6.890625 26.8125 6.890625 \r\nQ 36.078125 6.890625 40.9375 10.546875 \r\nQ 45.796875 14.203125 45.796875 21.1875 \r\nQ 45.796875 27.640625 41.28125 31.265625 \r\nQ 36.765625 34.90625 28.71875 34.90625 \r\nL 20.21875 34.90625 \r\nL 20.21875 43.015625 \r\nL 29.109375 43.015625 \r\nQ 36.375 43.015625 40.234375 45.921875 \r\nQ 44.09375 48.828125 44.09375 54.296875 \r\nQ 44.09375 59.90625 40.109375 62.90625 \r\nQ 36.140625 65.921875 28.71875 65.921875 \r\nQ 24.65625 65.921875 20.015625 65.03125 \r\nQ 15.375 64.15625 9.8125 62.3125 \r\nL 9.8125 71.09375 \r\nQ 15.4375 72.65625 20.34375 73.4375 \r\nQ 25.25 74.21875 29.59375 74.21875 \r\nQ 40.828125 74.21875 47.359375 69.109375 \r\nQ 53.90625 64.015625 53.90625 55.328125 \r\nQ 53.90625 49.265625 50.4375 45.09375 \r\nQ 46.96875 40.921875 40.578125 39.3125 \r\nz\r\n\" id=\"DejaVuSans-51\"/>\r\n       </defs>\r\n       <use xlink:href=\"#DejaVuSans-48\"/>\r\n       <use x=\"63.623047\" xlink:href=\"#DejaVuSans-46\"/>\r\n       <use x=\"95.410156\" xlink:href=\"#DejaVuSans-48\"/>\r\n       <use x=\"159.033203\" xlink:href=\"#DejaVuSans-51\"/>\r\n      </g>\r\n     </g>\r\n    </g>\r\n    <g id=\"ytick_5\">\r\n     <g id=\"line2d_13\">\r\n      <g>\r\n       <use style=\"stroke:#000000;stroke-width:0.8;\" x=\"50.14375\" xlink:href=\"#m631ecb1439\" y=\"66.702629\"/>\r\n      </g>\r\n     </g>\r\n     <g id=\"text_14\">\r\n      <!-- 0.04 -->\r\n      <g transform=\"translate(20.878125 70.501847)scale(0.1 -0.1)\">\r\n       <defs>\r\n        <path d=\"M 37.796875 64.3125 \r\nL 12.890625 25.390625 \r\nL 37.796875 25.390625 \r\nz\r\nM 35.203125 72.90625 \r\nL 47.609375 72.90625 \r\nL 47.609375 25.390625 \r\nL 58.015625 25.390625 \r\nL 58.015625 17.1875 \r\nL 47.609375 17.1875 \r\nL 47.609375 0 \r\nL 37.796875 0 \r\nL 37.796875 17.1875 \r\nL 4.890625 17.1875 \r\nL 4.890625 26.703125 \r\nz\r\n\" id=\"DejaVuSans-52\"/>\r\n       </defs>\r\n       <use xlink:href=\"#DejaVuSans-48\"/>\r\n       <use x=\"63.623047\" xlink:href=\"#DejaVuSans-46\"/>\r\n       <use x=\"95.410156\" xlink:href=\"#DejaVuSans-48\"/>\r\n       <use x=\"159.033203\" xlink:href=\"#DejaVuSans-52\"/>\r\n      </g>\r\n     </g>\r\n    </g>\r\n    <g id=\"ytick_6\">\r\n     <g id=\"line2d_14\">\r\n      <g>\r\n       <use style=\"stroke:#000000;stroke-width:0.8;\" x=\"50.14375\" xlink:href=\"#m631ecb1439\" y=\"27.218286\"/>\r\n      </g>\r\n     </g>\r\n     <g id=\"text_15\">\r\n      <!-- 0.05 -->\r\n      <g transform=\"translate(20.878125 31.017504)scale(0.1 -0.1)\">\r\n       <use xlink:href=\"#DejaVuSans-48\"/>\r\n       <use x=\"63.623047\" xlink:href=\"#DejaVuSans-46\"/>\r\n       <use x=\"95.410156\" xlink:href=\"#DejaVuSans-48\"/>\r\n       <use x=\"159.033203\" xlink:href=\"#DejaVuSans-53\"/>\r\n      </g>\r\n     </g>\r\n    </g>\r\n    <g id=\"text_16\">\r\n     <!-- Density -->\r\n     <g transform=\"translate(14.798438 134.928594)rotate(-90)scale(0.1 -0.1)\">\r\n      <defs>\r\n       <path d=\"M 19.671875 64.796875 \r\nL 19.671875 8.109375 \r\nL 31.59375 8.109375 \r\nQ 46.6875 8.109375 53.6875 14.9375 \r\nQ 60.6875 21.78125 60.6875 36.53125 \r\nQ 60.6875 51.171875 53.6875 57.984375 \r\nQ 46.6875 64.796875 31.59375 64.796875 \r\nz\r\nM 9.8125 72.90625 \r\nL 30.078125 72.90625 \r\nQ 51.265625 72.90625 61.171875 64.09375 \r\nQ 71.09375 55.28125 71.09375 36.53125 \r\nQ 71.09375 17.671875 61.125 8.828125 \r\nQ 51.171875 0 30.078125 0 \r\nL 9.8125 0 \r\nz\r\n\" id=\"DejaVuSans-68\"/>\r\n       <path d=\"M 54.890625 33.015625 \r\nL 54.890625 0 \r\nL 45.90625 0 \r\nL 45.90625 32.71875 \r\nQ 45.90625 40.484375 42.875 44.328125 \r\nQ 39.84375 48.1875 33.796875 48.1875 \r\nQ 26.515625 48.1875 22.3125 43.546875 \r\nQ 18.109375 38.921875 18.109375 30.90625 \r\nL 18.109375 0 \r\nL 9.078125 0 \r\nL 9.078125 54.6875 \r\nL 18.109375 54.6875 \r\nL 18.109375 46.1875 \r\nQ 21.34375 51.125 25.703125 53.5625 \r\nQ 30.078125 56 35.796875 56 \r\nQ 45.21875 56 50.046875 50.171875 \r\nQ 54.890625 44.34375 54.890625 33.015625 \r\nz\r\n\" id=\"DejaVuSans-110\"/>\r\n       <path d=\"M 9.421875 54.6875 \r\nL 18.40625 54.6875 \r\nL 18.40625 0 \r\nL 9.421875 0 \r\nz\r\nM 9.421875 75.984375 \r\nL 18.40625 75.984375 \r\nL 18.40625 64.59375 \r\nL 9.421875 64.59375 \r\nz\r\n\" id=\"DejaVuSans-105\"/>\r\n       <path d=\"M 18.3125 70.21875 \r\nL 18.3125 54.6875 \r\nL 36.8125 54.6875 \r\nL 36.8125 47.703125 \r\nL 18.3125 47.703125 \r\nL 18.3125 18.015625 \r\nQ 18.3125 11.328125 20.140625 9.421875 \r\nQ 21.96875 7.515625 27.59375 7.515625 \r\nL 36.8125 7.515625 \r\nL 36.8125 0 \r\nL 27.59375 0 \r\nQ 17.1875 0 13.234375 3.875 \r\nQ 9.28125 7.765625 9.28125 18.015625 \r\nL 9.28125 47.703125 \r\nL 2.6875 47.703125 \r\nL 2.6875 54.6875 \r\nL 9.28125 54.6875 \r\nL 9.28125 70.21875 \r\nz\r\n\" id=\"DejaVuSans-116\"/>\r\n       <path d=\"M 32.171875 -5.078125 \r\nQ 28.375 -14.84375 24.75 -17.8125 \r\nQ 21.140625 -20.796875 15.09375 -20.796875 \r\nL 7.90625 -20.796875 \r\nL 7.90625 -13.28125 \r\nL 13.1875 -13.28125 \r\nQ 16.890625 -13.28125 18.9375 -11.515625 \r\nQ 21 -9.765625 23.484375 -3.21875 \r\nL 25.09375 0.875 \r\nL 2.984375 54.6875 \r\nL 12.5 54.6875 \r\nL 29.59375 11.921875 \r\nL 46.6875 54.6875 \r\nL 56.203125 54.6875 \r\nz\r\n\" id=\"DejaVuSans-121\"/>\r\n      </defs>\r\n      <use xlink:href=\"#DejaVuSans-68\"/>\r\n      <use x=\"77.001953\" xlink:href=\"#DejaVuSans-101\"/>\r\n      <use x=\"138.525391\" xlink:href=\"#DejaVuSans-110\"/>\r\n      <use x=\"201.904297\" xlink:href=\"#DejaVuSans-115\"/>\r\n      <use x=\"254.003906\" xlink:href=\"#DejaVuSans-105\"/>\r\n      <use x=\"281.787109\" xlink:href=\"#DejaVuSans-116\"/>\r\n      <use x=\"320.996094\" xlink:href=\"#DejaVuSans-121\"/>\r\n     </g>\r\n    </g>\r\n   </g>\r\n   <g id=\"line2d_15\">\r\n    <path clip-path=\"url(#pd993b57e16)\" d=\"M 121.802355 224.600316 \r\nL 128.031582 224.424825 \r\nL 131.769117 224.13171 \r\nL 135.506653 223.569888 \r\nL 137.998344 222.990099 \r\nL 140.490035 222.220336 \r\nL 142.981725 221.261846 \r\nL 146.719261 219.54468 \r\nL 152.948487 216.534443 \r\nL 155.440178 215.510154 \r\nL 157.931869 214.655565 \r\nL 161.669404 213.637337 \r\nL 166.652786 212.308446 \r\nL 169.144476 211.361772 \r\nL 171.636167 210.016977 \r\nL 172.882012 209.138592 \r\nL 174.127857 208.088491 \r\nL 175.373703 206.837514 \r\nL 176.619548 205.35352 \r\nL 177.865393 203.601508 \r\nL 179.111239 201.544182 \r\nL 180.357084 199.143048 \r\nL 181.602929 196.360075 \r\nL 182.848774 193.159918 \r\nL 184.09462 189.512624 \r\nL 185.340465 185.396682 \r\nL 186.58631 180.802225 \r\nL 189.078001 170.214759 \r\nL 191.569691 158.010614 \r\nL 199.044763 118.93757 \r\nL 200.290609 113.418555 \r\nL 201.536454 108.545738 \r\nL 202.782299 104.432199 \r\nL 204.028144 101.16954 \r\nL 205.27399 98.8238 \r\nL 206.519835 97.432765 \r\nL 207.76568 97.004834 \r\nL 209.011526 97.519476 \r\nL 210.257371 98.929184 \r\nL 211.503216 101.162727 \r\nL 212.749061 104.129412 \r\nL 213.994907 107.724022 \r\nL 215.240752 111.83206 \r\nL 217.732443 121.114936 \r\nL 223.961669 145.574368 \r\nL 226.45336 154.202638 \r\nL 228.94505 161.660763 \r\nL 231.436741 167.869758 \r\nL 232.682586 170.519022 \r\nL 233.928431 172.884271 \r\nL 235.174277 174.985438 \r\nL 236.420122 176.845278 \r\nL 237.665967 178.488353 \r\nL 240.157658 181.226458 \r\nL 242.649348 183.40272 \r\nL 245.141039 185.205142 \r\nL 248.878575 187.540775 \r\nL 255.107801 191.130652 \r\nL 258.845337 193.105139 \r\nL 261.337028 194.240348 \r\nL 263.828718 195.17989 \r\nL 266.320409 195.927757 \r\nL 273.795481 197.893226 \r\nL 276.287171 198.920552 \r\nL 278.778862 200.344566 \r\nL 281.270552 202.20894 \r\nL 283.762243 204.475998 \r\nL 287.499779 208.370009 \r\nL 291.237315 212.345806 \r\nL 293.729005 214.762378 \r\nL 296.220696 216.852792 \r\nL 298.712387 218.563602 \r\nL 301.204077 219.898366 \r\nL 303.695768 220.903278 \r\nL 306.187458 221.646847 \r\nL 309.924994 222.423768 \r\nL 313.66253 222.946166 \r\nL 318.645911 223.371275 \r\nL 322.383447 223.494268 \r\nL 327.366828 223.421455 \r\nL 337.333591 223.14225 \r\nL 342.316972 223.308678 \r\nL 349.792044 223.8802 \r\nL 357.267115 224.371223 \r\nL 364.742187 224.581282 \r\nL 369.725568 224.623709 \r\nL 369.725568 224.623709 \r\n\" style=\"fill:none;stroke:#1f77b4;stroke-linecap:square;stroke-width:1.5;\"/>\r\n   </g>\r\n   <g id=\"line2d_16\">\r\n    <path clip-path=\"url(#pd993b57e16)\" d=\"M 65.361932 224.553604 \r\nL 69.495652 224.298018 \r\nL 71.562513 223.998497 \r\nL 73.629373 223.482069 \r\nL 75.696233 222.627635 \r\nL 76.729663 222.024071 \r\nL 77.763093 221.270811 \r\nL 78.796524 220.340313 \r\nL 79.829954 219.202588 \r\nL 80.863384 217.825665 \r\nL 81.896814 216.176257 \r\nL 82.930244 214.220636 \r\nL 83.963674 211.925712 \r\nL 84.997104 209.260312 \r\nL 86.030534 206.196617 \r\nL 87.063965 202.711714 \r\nL 88.097395 198.789201 \r\nL 90.164255 189.607699 \r\nL 92.231115 178.707872 \r\nL 94.297976 166.331649 \r\nL 97.398266 146.009116 \r\nL 100.498556 125.566581 \r\nL 102.565417 113.152489 \r\nL 104.632277 102.575406 \r\nL 105.665707 98.169125 \r\nL 106.699137 94.429831 \r\nL 107.732567 91.398355 \r\nL 108.765997 89.099719 \r\nL 109.799428 87.542877 \r\nL 110.832858 86.721079 \r\nL 111.866288 86.61283 \r\nL 112.899718 87.183347 \r\nL 113.933148 88.386443 \r\nL 114.966578 90.166702 \r\nL 116.000008 92.461831 \r\nL 117.033438 95.205055 \r\nL 119.100299 101.760019 \r\nL 121.167159 109.290791 \r\nL 129.4346 140.721363 \r\nL 131.50146 147.588173 \r\nL 133.568321 153.818335 \r\nL 135.635181 159.396381 \r\nL 137.702041 164.343245 \r\nL 139.768901 168.702771 \r\nL 141.835762 172.529115 \r\nL 143.902622 175.876095 \r\nL 145.969482 178.790118 \r\nL 148.036342 181.30801 \r\nL 150.103203 183.459758 \r\nL 152.170063 185.274546 \r\nL 154.236923 186.78728 \r\nL 156.303783 188.042657 \r\nL 159.404074 189.563188 \r\nL 163.537794 191.214093 \r\nL 172.838666 194.784294 \r\nL 175.938956 196.177621 \r\nL 179.039246 197.86251 \r\nL 181.106107 199.231039 \r\nL 183.172967 200.840984 \r\nL 185.239827 202.703434 \r\nL 188.340118 205.910159 \r\nL 196.607559 214.959058 \r\nL 198.674419 216.815783 \r\nL 200.741279 218.375584 \r\nL 202.808139 219.623363 \r\nL 204.875 220.574788 \r\nL 206.94186 221.269823 \r\nL 209.00872 221.763511 \r\nL 212.109011 222.256395 \r\nL 218.309591 222.908568 \r\nL 224.510172 223.409167 \r\nL 228.643893 223.51549 \r\nL 232.777613 223.383616 \r\nL 241.045054 222.976438 \r\nL 245.178775 223.062055 \r\nL 249.312495 223.384807 \r\nL 259.646797 224.323082 \r\nL 265.847378 224.560443 \r\nL 271.014528 224.621725 \r\nL 271.014528 224.621725 \r\n\" style=\"fill:none;stroke:#ff7f0e;stroke-linecap:square;stroke-width:1.5;\"/>\r\n   </g>\r\n   <g id=\"patch_32\">\r\n    <path d=\"M 50.14375 224.64 \r\nL 50.14375 7.2 \r\n\" style=\"fill:none;stroke:#000000;stroke-linecap:square;stroke-linejoin:miter;stroke-width:0.8;\"/>\r\n   </g>\r\n   <g id=\"patch_33\">\r\n    <path d=\"M 384.94375 224.64 \r\nL 384.94375 7.2 \r\n\" style=\"fill:none;stroke:#000000;stroke-linecap:square;stroke-linejoin:miter;stroke-width:0.8;\"/>\r\n   </g>\r\n   <g id=\"patch_34\">\r\n    <path d=\"M 50.14375 224.64 \r\nL 384.94375 224.64 \r\n\" style=\"fill:none;stroke:#000000;stroke-linecap:square;stroke-linejoin:miter;stroke-width:0.8;\"/>\r\n   </g>\r\n   <g id=\"patch_35\">\r\n    <path d=\"M 50.14375 7.2 \r\nL 384.94375 7.2 \r\n\" style=\"fill:none;stroke:#000000;stroke-linecap:square;stroke-linejoin:miter;stroke-width:0.8;\"/>\r\n   </g>\r\n  </g>\r\n </g>\r\n <defs>\r\n  <clipPath id=\"pd993b57e16\">\r\n   <rect height=\"217.44\" width=\"334.8\" x=\"50.14375\" y=\"7.2\"/>\r\n  </clipPath>\r\n </defs>\r\n</svg>\r\n",
      "image/png": "[encoded data removed]"
     },
     "metadata": {
      "needs_background": "light"
     }
    }
   ],
   "source": [
    "sns.distplot(train.groupby('Patient')['Weeks'].max())  \n",
    "sns.distplot(train.groupby('Patient')['Weeks'].min())  "
   ]
  },
  {
   "cell_type": "markdown",
   "metadata": {},
   "source": [
    "### Identifying the average deviation of first FVC reading from the date of scan"
   ]
  },
  {
   "cell_type": "code",
   "execution_count": null,
   "metadata": {},
   "outputs": [],
   "source": [
    "ax = sns.barplot(x='Weeks',y='Patient', data=patient_db.sort_values('Weeks'), palette=\"rocket\")\n",
    "ax.set(yticks= [])\n"
   ]
  },
  {
   "cell_type": "code",
   "execution_count": null,
   "metadata": {},
   "outputs": [],
   "source": [
    "patient_db"
   ]
  },
  {
   "cell_type": "code",
   "execution_count": 21,
   "metadata": {
    "tags": []
   },
   "outputs": [
    {
     "output_type": "error",
     "ename": "KeyError",
     "evalue": "'Required'",
     "traceback": [
      "\u001b[1;31m---------------------------------------------------------------------------\u001b[0m",
      "\u001b[1;31mKeyError\u001b[0m                                  Traceback (most recent call last)",
      "\u001b[1;32m~\\AppData\\Local\\Programs\\Python\\Python38\\lib\\site-packages\\pandas\\core\\indexes\\base.py\u001b[0m in \u001b[0;36mget_loc\u001b[1;34m(self, key, method, tolerance)\u001b[0m\n\u001b[0;32m   2645\u001b[0m             \u001b[1;32mtry\u001b[0m\u001b[1;33m:\u001b[0m\u001b[1;33m\u001b[0m\u001b[1;33m\u001b[0m\u001b[0m\n\u001b[1;32m-> 2646\u001b[1;33m                 \u001b[1;32mreturn\u001b[0m \u001b[0mself\u001b[0m\u001b[1;33m.\u001b[0m\u001b[0m_engine\u001b[0m\u001b[1;33m.\u001b[0m\u001b[0mget_loc\u001b[0m\u001b[1;33m(\u001b[0m\u001b[0mkey\u001b[0m\u001b[1;33m)\u001b[0m\u001b[1;33m\u001b[0m\u001b[1;33m\u001b[0m\u001b[0m\n\u001b[0m\u001b[0;32m   2647\u001b[0m             \u001b[1;32mexcept\u001b[0m \u001b[0mKeyError\u001b[0m\u001b[1;33m:\u001b[0m\u001b[1;33m\u001b[0m\u001b[1;33m\u001b[0m\u001b[0m\n",
      "\u001b[1;32mpandas\\_libs\\index.pyx\u001b[0m in \u001b[0;36mpandas._libs.index.IndexEngine.get_loc\u001b[1;34m()\u001b[0m\n",
      "\u001b[1;32mpandas\\_libs\\index.pyx\u001b[0m in \u001b[0;36mpandas._libs.index.IndexEngine.get_loc\u001b[1;34m()\u001b[0m\n",
      "\u001b[1;32mpandas\\_libs\\hashtable_class_helper.pxi\u001b[0m in \u001b[0;36mpandas._libs.hashtable.PyObjectHashTable.get_item\u001b[1;34m()\u001b[0m\n",
      "\u001b[1;32mpandas\\_libs\\hashtable_class_helper.pxi\u001b[0m in \u001b[0;36mpandas._libs.hashtable.PyObjectHashTable.get_item\u001b[1;34m()\u001b[0m\n",
      "\u001b[1;31mKeyError\u001b[0m: 'Required'",
      "\nDuring handling of the above exception, another exception occurred:\n",
      "\u001b[1;31mKeyError\u001b[0m                                  Traceback (most recent call last)",
      "\u001b[1;32m<ipython-input-21-e2a06ba8eb4a>\u001b[0m in \u001b[0;36m<module>\u001b[1;34m\u001b[0m\n\u001b[0;32m      2\u001b[0m \u001b[1;31m# from numpy import cov\u001b[0m\u001b[1;33m\u001b[0m\u001b[1;33m\u001b[0m\u001b[1;33m\u001b[0m\u001b[0m\n\u001b[0;32m      3\u001b[0m \u001b[1;33m\u001b[0m\u001b[0m\n\u001b[1;32m----> 4\u001b[1;33m \u001b[0mcorr\u001b[0m\u001b[1;33m,\u001b[0m \u001b[0m_\u001b[0m \u001b[1;33m=\u001b[0m \u001b[0mpearsonr\u001b[0m\u001b[1;33m(\u001b[0m\u001b[0mtrain\u001b[0m\u001b[1;33m[\u001b[0m\u001b[1;34m'Age'\u001b[0m\u001b[1;33m]\u001b[0m\u001b[1;33m,\u001b[0m\u001b[0mtrain\u001b[0m\u001b[1;33m[\u001b[0m\u001b[1;34m'Required'\u001b[0m\u001b[1;33m]\u001b[0m\u001b[1;33m)\u001b[0m\u001b[1;33m\u001b[0m\u001b[1;33m\u001b[0m\u001b[0m\n\u001b[0m\u001b[0;32m      5\u001b[0m \u001b[0mprint\u001b[0m\u001b[1;33m(\u001b[0m\u001b[1;34m'Pearsons correlation: %.3f'\u001b[0m \u001b[1;33m%\u001b[0m \u001b[0mcorr\u001b[0m\u001b[1;33m)\u001b[0m\u001b[1;33m\u001b[0m\u001b[1;33m\u001b[0m\u001b[0m\n",
      "\u001b[1;32m~\\AppData\\Local\\Programs\\Python\\Python38\\lib\\site-packages\\pandas\\core\\frame.py\u001b[0m in \u001b[0;36m__getitem__\u001b[1;34m(self, key)\u001b[0m\n\u001b[0;32m   2798\u001b[0m             \u001b[1;32mif\u001b[0m \u001b[0mself\u001b[0m\u001b[1;33m.\u001b[0m\u001b[0mcolumns\u001b[0m\u001b[1;33m.\u001b[0m\u001b[0mnlevels\u001b[0m \u001b[1;33m>\u001b[0m \u001b[1;36m1\u001b[0m\u001b[1;33m:\u001b[0m\u001b[1;33m\u001b[0m\u001b[1;33m\u001b[0m\u001b[0m\n\u001b[0;32m   2799\u001b[0m                 \u001b[1;32mreturn\u001b[0m \u001b[0mself\u001b[0m\u001b[1;33m.\u001b[0m\u001b[0m_getitem_multilevel\u001b[0m\u001b[1;33m(\u001b[0m\u001b[0mkey\u001b[0m\u001b[1;33m)\u001b[0m\u001b[1;33m\u001b[0m\u001b[1;33m\u001b[0m\u001b[0m\n\u001b[1;32m-> 2800\u001b[1;33m             \u001b[0mindexer\u001b[0m \u001b[1;33m=\u001b[0m \u001b[0mself\u001b[0m\u001b[1;33m.\u001b[0m\u001b[0mcolumns\u001b[0m\u001b[1;33m.\u001b[0m\u001b[0mget_loc\u001b[0m\u001b[1;33m(\u001b[0m\u001b[0mkey\u001b[0m\u001b[1;33m)\u001b[0m\u001b[1;33m\u001b[0m\u001b[1;33m\u001b[0m\u001b[0m\n\u001b[0m\u001b[0;32m   2801\u001b[0m             \u001b[1;32mif\u001b[0m \u001b[0mis_integer\u001b[0m\u001b[1;33m(\u001b[0m\u001b[0mindexer\u001b[0m\u001b[1;33m)\u001b[0m\u001b[1;33m:\u001b[0m\u001b[1;33m\u001b[0m\u001b[1;33m\u001b[0m\u001b[0m\n\u001b[0;32m   2802\u001b[0m                 \u001b[0mindexer\u001b[0m \u001b[1;33m=\u001b[0m \u001b[1;33m[\u001b[0m\u001b[0mindexer\u001b[0m\u001b[1;33m]\u001b[0m\u001b[1;33m\u001b[0m\u001b[1;33m\u001b[0m\u001b[0m\n",
      "\u001b[1;32m~\\AppData\\Local\\Programs\\Python\\Python38\\lib\\site-packages\\pandas\\core\\indexes\\base.py\u001b[0m in \u001b[0;36mget_loc\u001b[1;34m(self, key, method, tolerance)\u001b[0m\n\u001b[0;32m   2646\u001b[0m                 \u001b[1;32mreturn\u001b[0m \u001b[0mself\u001b[0m\u001b[1;33m.\u001b[0m\u001b[0m_engine\u001b[0m\u001b[1;33m.\u001b[0m\u001b[0mget_loc\u001b[0m\u001b[1;33m(\u001b[0m\u001b[0mkey\u001b[0m\u001b[1;33m)\u001b[0m\u001b[1;33m\u001b[0m\u001b[1;33m\u001b[0m\u001b[0m\n\u001b[0;32m   2647\u001b[0m             \u001b[1;32mexcept\u001b[0m \u001b[0mKeyError\u001b[0m\u001b[1;33m:\u001b[0m\u001b[1;33m\u001b[0m\u001b[1;33m\u001b[0m\u001b[0m\n\u001b[1;32m-> 2648\u001b[1;33m                 \u001b[1;32mreturn\u001b[0m \u001b[0mself\u001b[0m\u001b[1;33m.\u001b[0m\u001b[0m_engine\u001b[0m\u001b[1;33m.\u001b[0m\u001b[0mget_loc\u001b[0m\u001b[1;33m(\u001b[0m\u001b[0mself\u001b[0m\u001b[1;33m.\u001b[0m\u001b[0m_maybe_cast_indexer\u001b[0m\u001b[1;33m(\u001b[0m\u001b[0mkey\u001b[0m\u001b[1;33m)\u001b[0m\u001b[1;33m)\u001b[0m\u001b[1;33m\u001b[0m\u001b[1;33m\u001b[0m\u001b[0m\n\u001b[0m\u001b[0;32m   2649\u001b[0m         \u001b[0mindexer\u001b[0m \u001b[1;33m=\u001b[0m \u001b[0mself\u001b[0m\u001b[1;33m.\u001b[0m\u001b[0mget_indexer\u001b[0m\u001b[1;33m(\u001b[0m\u001b[1;33m[\u001b[0m\u001b[0mkey\u001b[0m\u001b[1;33m]\u001b[0m\u001b[1;33m,\u001b[0m \u001b[0mmethod\u001b[0m\u001b[1;33m=\u001b[0m\u001b[0mmethod\u001b[0m\u001b[1;33m,\u001b[0m \u001b[0mtolerance\u001b[0m\u001b[1;33m=\u001b[0m\u001b[0mtolerance\u001b[0m\u001b[1;33m)\u001b[0m\u001b[1;33m\u001b[0m\u001b[1;33m\u001b[0m\u001b[0m\n\u001b[0;32m   2650\u001b[0m         \u001b[1;32mif\u001b[0m \u001b[0mindexer\u001b[0m\u001b[1;33m.\u001b[0m\u001b[0mndim\u001b[0m \u001b[1;33m>\u001b[0m \u001b[1;36m1\u001b[0m \u001b[1;32mor\u001b[0m \u001b[0mindexer\u001b[0m\u001b[1;33m.\u001b[0m\u001b[0msize\u001b[0m \u001b[1;33m>\u001b[0m \u001b[1;36m1\u001b[0m\u001b[1;33m:\u001b[0m\u001b[1;33m\u001b[0m\u001b[1;33m\u001b[0m\u001b[0m\n",
      "\u001b[1;32mpandas\\_libs\\index.pyx\u001b[0m in \u001b[0;36mpandas._libs.index.IndexEngine.get_loc\u001b[1;34m()\u001b[0m\n",
      "\u001b[1;32mpandas\\_libs\\index.pyx\u001b[0m in \u001b[0;36mpandas._libs.index.IndexEngine.get_loc\u001b[1;34m()\u001b[0m\n",
      "\u001b[1;32mpandas\\_libs\\hashtable_class_helper.pxi\u001b[0m in \u001b[0;36mpandas._libs.hashtable.PyObjectHashTable.get_item\u001b[1;34m()\u001b[0m\n",
      "\u001b[1;32mpandas\\_libs\\hashtable_class_helper.pxi\u001b[0m in \u001b[0;36mpandas._libs.hashtable.PyObjectHashTable.get_item\u001b[1;34m()\u001b[0m\n",
      "\u001b[1;31mKeyError\u001b[0m: 'Required'"
     ]
    }
   ],
   "source": [
    "from scipy.stats import pearsonr\n",
    "# from numpy import cov\n",
    "\n",
    "corr, _ = pearsonr(train['Age'],train[' '])\n",
    "print('Pearsons correlation: %.3f' % corr)"
   ]
  }
 ]
}