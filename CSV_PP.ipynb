{
 "metadata": {
  "language_info": {
   "codemirror_mode": {
    "name": "ipython",
    "version": 3
   },
   "file_extension": ".py",
   "mimetype": "text/x-python",
   "name": "python",
   "nbconvert_exporter": "python",
   "pygments_lexer": "ipython3",
   "version": "3.8.1-final"
  },
  "orig_nbformat": 2,
  "kernelspec": {
   "name": "python_defaultSpec_1599822013327",
   "display_name": "Python 3.8.1 64-bit"
  }
 },
 "nbformat": 4,
 "nbformat_minor": 2,
 "cells": [
  {
   "cell_type": "code",
   "execution_count": 1,
   "metadata": {},
   "outputs": [],
   "source": [
    "import pandas as pd\n",
    "import numpy as np\n",
    "import seaborn as sns \n",
    "import math\n",
    "import matplotlib.pyplot as plt \n",
    "import os \n",
    "from sklearn.linear_model import LinearRegression\n",
    "from statistics import mean\n",
    "from sklearn import preprocessing as prep\n",
    "\n",
    "# data_path = \"D:\\\\Kaggle\\\\PulmonaryFibrosisProgression\"\n"
   ]
  },
  {
   "cell_type": "code",
   "execution_count": 2,
   "metadata": {
    "tags": []
   },
   "outputs": [],
   "source": [
    "train = pd.read_csv(\"traindata.csv\")\n",
    "test = pd.read_csv(\"testdata.csv\")\n",
    "submit = pd.read_csv(\"sample_submission.csv\")\n"
   ]
  },
  {
   "cell_type": "code",
   "execution_count": 3,
   "metadata": {
    "tags": []
   },
   "outputs": [
    {
     "output_type": "stream",
     "name": "stdout",
     "text": "<class 'pandas.core.frame.DataFrame'>\nRangeIndex: 1549 entries, 0 to 1548\nData columns (total 7 columns):\n #   Column         Non-Null Count  Dtype  \n---  ------         --------------  -----  \n 0   Patient        1549 non-null   object \n 1   Weeks          1549 non-null   int64  \n 2   FVC            1549 non-null   int64  \n 3   Percent        1549 non-null   float64\n 4   Age            1549 non-null   int64  \n 5   Sex            1549 non-null   object \n 6   SmokingStatus  1549 non-null   object \ndtypes: float64(1), int64(3), object(3)\nmemory usage: 84.8+ KB\n"
    }
   ],
   "source": [
    "train.info()"
   ]
  },
  {
   "source": [
    "Training set has <b>1549</b> enteries<br>\n",
    "It has <b>176</b> unique "
   ],
   "cell_type": "markdown",
   "metadata": {}
  },
  {
   "cell_type": "code",
   "execution_count": 4,
   "metadata": {
    "tags": []
   },
   "outputs": [],
   "source": [
    "submit['Patient'] = submit['Patient_Week'].apply(lambda x :x.split('_')[0])\n",
    "submit['Weeks'] = submit['Patient_Week'].apply(lambda x :x.split('_')[-1])\n",
    "\n",
    "submit = submit.drop('FVC', axis=1)\n",
    "submit = submit[['Patient', 'Weeks', 'Confidence', 'Patient_Week']]\n",
    "submit = submit.merge(test.drop('Weeks',axis=1), on='Patient')  \n",
    "\n",
    "#730 is the 5 records for 146 patients"
   ]
  },
  {
   "cell_type": "code",
   "execution_count": 5,
   "metadata": {
    "tags": []
   },
   "outputs": [],
   "source": [
    "submit = submit[['Patient', 'Weeks','FVC','Percent', 'Age', 'Sex','SmokingStatus' ,'Confidence', 'Patient_Week']] #Reordering\n"
   ]
  },
  {
   "cell_type": "code",
   "execution_count": 6,
   "metadata": {},
   "outputs": [],
   "source": [
    "#Adding indicator for dataset identification\n",
    "\n",
    "train[\"Dataset\"] = 'Train'\n",
    "test[\"Dataset\"] = 'Test'\n",
    "submit[\"Dataset\"] = 'Submission'"
   ]
  },
  {
   "cell_type": "code",
   "execution_count": 7,
   "metadata": {
    "tags": []
   },
   "outputs": [
    {
     "output_type": "execute_result",
     "data": {
      "text/plain": "                        Patient  Weeks   FVC    Percent  Age     Sex  \\\n167   ID00048637202185016727717      9  1477  64.514720   70  Female   \n166   ID00048637202185016727717      9  1375  60.059404   70  Female   \n227   ID00068637202190879923934     11  2827  83.609369   73    Male   \n226   ID00068637202190879923934     11  2794  82.633385   73    Male   \n306   ID00089637202204675567570      7  2478  57.967624   63    Male   \n307   ID00089637202204675567570      7  2539  59.394592   63    Male   \n465   ID00125637202218590429387      8  2349  53.757781   65    Male   \n466   ID00125637202218590429387      8  2584  59.135848   65    Male   \n750   ID00199637202248141386743      5  2672  64.728682   62    Male   \n751   ID00199637202248141386743      5  2683  64.995155   62    Male   \n920   ID00240637202264138860065      5  2991  78.421605   63    Male   \n921   ID00240637202264138860065      5  3132  82.118511   63    Male   \n1521  ID00421637202311550012437     70  2628  78.720345   68    Male   \n1522  ID00421637202311550012437     70  2719  81.446202   68    Male   \n\n     SmokingStatus Dataset  \n167   Never smoked   Train  \n166   Never smoked   Train  \n227      Ex-smoker   Train  \n226      Ex-smoker   Train  \n306   Never smoked   Train  \n307   Never smoked   Train  \n465   Never smoked   Train  \n466   Never smoked   Train  \n750      Ex-smoker   Train  \n751      Ex-smoker   Train  \n920      Ex-smoker   Train  \n921      Ex-smoker   Train  \n1521     Ex-smoker   Train  \n1522     Ex-smoker   Train  ",
      "text/html": "<div>\n<style scoped>\n    .dataframe tbody tr th:only-of-type {\n        vertical-align: middle;\n    }\n\n    .dataframe tbody tr th {\n        vertical-align: top;\n    }\n\n    .dataframe thead th {\n        text-align: right;\n    }\n</style>\n<table border=\"1\" class=\"dataframe\">\n  <thead>\n    <tr style=\"text-align: right;\">\n      <th></th>\n      <th>Patient</th>\n      <th>Weeks</th>\n      <th>FVC</th>\n      <th>Percent</th>\n      <th>Age</th>\n      <th>Sex</th>\n      <th>SmokingStatus</th>\n      <th>Dataset</th>\n    </tr>\n  </thead>\n  <tbody>\n    <tr>\n      <th>167</th>\n      <td>ID00048637202185016727717</td>\n      <td>9</td>\n      <td>1477</td>\n      <td>64.514720</td>\n      <td>70</td>\n      <td>Female</td>\n      <td>Never smoked</td>\n      <td>Train</td>\n    </tr>\n    <tr>\n      <th>166</th>\n      <td>ID00048637202185016727717</td>\n      <td>9</td>\n      <td>1375</td>\n      <td>60.059404</td>\n      <td>70</td>\n      <td>Female</td>\n      <td>Never smoked</td>\n      <td>Train</td>\n    </tr>\n    <tr>\n      <th>227</th>\n      <td>ID00068637202190879923934</td>\n      <td>11</td>\n      <td>2827</td>\n      <td>83.609369</td>\n      <td>73</td>\n      <td>Male</td>\n      <td>Ex-smoker</td>\n      <td>Train</td>\n    </tr>\n    <tr>\n      <th>226</th>\n      <td>ID00068637202190879923934</td>\n      <td>11</td>\n      <td>2794</td>\n      <td>82.633385</td>\n      <td>73</td>\n      <td>Male</td>\n      <td>Ex-smoker</td>\n      <td>Train</td>\n    </tr>\n    <tr>\n      <th>306</th>\n      <td>ID00089637202204675567570</td>\n      <td>7</td>\n      <td>2478</td>\n      <td>57.967624</td>\n      <td>63</td>\n      <td>Male</td>\n      <td>Never smoked</td>\n      <td>Train</td>\n    </tr>\n    <tr>\n      <th>307</th>\n      <td>ID00089637202204675567570</td>\n      <td>7</td>\n      <td>2539</td>\n      <td>59.394592</td>\n      <td>63</td>\n      <td>Male</td>\n      <td>Never smoked</td>\n      <td>Train</td>\n    </tr>\n    <tr>\n      <th>465</th>\n      <td>ID00125637202218590429387</td>\n      <td>8</td>\n      <td>2349</td>\n      <td>53.757781</td>\n      <td>65</td>\n      <td>Male</td>\n      <td>Never smoked</td>\n      <td>Train</td>\n    </tr>\n    <tr>\n      <th>466</th>\n      <td>ID00125637202218590429387</td>\n      <td>8</td>\n      <td>2584</td>\n      <td>59.135848</td>\n      <td>65</td>\n      <td>Male</td>\n      <td>Never smoked</td>\n      <td>Train</td>\n    </tr>\n    <tr>\n      <th>750</th>\n      <td>ID00199637202248141386743</td>\n      <td>5</td>\n      <td>2672</td>\n      <td>64.728682</td>\n      <td>62</td>\n      <td>Male</td>\n      <td>Ex-smoker</td>\n      <td>Train</td>\n    </tr>\n    <tr>\n      <th>751</th>\n      <td>ID00199637202248141386743</td>\n      <td>5</td>\n      <td>2683</td>\n      <td>64.995155</td>\n      <td>62</td>\n      <td>Male</td>\n      <td>Ex-smoker</td>\n      <td>Train</td>\n    </tr>\n    <tr>\n      <th>920</th>\n      <td>ID00240637202264138860065</td>\n      <td>5</td>\n      <td>2991</td>\n      <td>78.421605</td>\n      <td>63</td>\n      <td>Male</td>\n      <td>Ex-smoker</td>\n      <td>Train</td>\n    </tr>\n    <tr>\n      <th>921</th>\n      <td>ID00240637202264138860065</td>\n      <td>5</td>\n      <td>3132</td>\n      <td>82.118511</td>\n      <td>63</td>\n      <td>Male</td>\n      <td>Ex-smoker</td>\n      <td>Train</td>\n    </tr>\n    <tr>\n      <th>1521</th>\n      <td>ID00421637202311550012437</td>\n      <td>70</td>\n      <td>2628</td>\n      <td>78.720345</td>\n      <td>68</td>\n      <td>Male</td>\n      <td>Ex-smoker</td>\n      <td>Train</td>\n    </tr>\n    <tr>\n      <th>1522</th>\n      <td>ID00421637202311550012437</td>\n      <td>70</td>\n      <td>2719</td>\n      <td>81.446202</td>\n      <td>68</td>\n      <td>Male</td>\n      <td>Ex-smoker</td>\n      <td>Train</td>\n    </tr>\n  </tbody>\n</table>\n</div>"
     },
     "metadata": {},
     "execution_count": 7
    }
   ],
   "source": [
    "train.iloc[train.duplicated(['Patient', 'Weeks'], keep=False).sort_values(ascending=False).head(14).index].sort_values(by=['Patient'])"
   ]
  },
  {
   "source": [
    "After checking dataset for duplicates it was found that there are seven patients who recorded more than one(here two) FVC readings for the same week. To establish consistency the average of readings was taken and then added back to the database for both <b>FVC</b> and <b>Percent</b>."
   ],
   "cell_type": "markdown",
   "metadata": {}
  },
  {
   "cell_type": "code",
   "execution_count": 27,
   "metadata": {
    "tags": []
   },
   "outputs": [
    {
     "output_type": "execute_result",
     "data": {
      "text/plain": "176"
     },
     "metadata": {},
     "execution_count": 27
    }
   ],
   "source": [
    "temp = train.groupby(['Patient', 'Weeks'], as_index=False)['FVC','Percent'].mean()\n",
    "\n",
    "train = train.drop_duplicates(['Patient','Weeks']).drop(['FVC','Percent'],axis=1).merge(temp, on=['Patient', 'Weeks'])\n",
    "len(train['Patient'].unique())"
   ]
  },
  {
   "cell_type": "code",
   "execution_count": 29,
   "metadata": {
    "tags": []
   },
   "outputs": [
    {
     "output_type": "execute_result",
     "data": {
      "text/plain": "             Weeks          Age          FVC      Percent\ncount  1542.000000  1542.000000  1542.000000  1542.000000\nmean     31.931907    67.192607  2691.263294    77.710239\nstd      23.229854     7.068397   833.927148    19.847108\nmin      -5.000000    49.000000   827.000000    28.877577\n25%      12.000000    63.000000  2108.250000    62.840249\n50%      28.000000    68.000000  2642.000000    75.677774\n75%      47.000000    72.000000  3175.000000    88.650583\nmax     133.000000    88.000000  6399.000000   153.145378",
      "text/html": "<div>\n<style scoped>\n    .dataframe tbody tr th:only-of-type {\n        vertical-align: middle;\n    }\n\n    .dataframe tbody tr th {\n        vertical-align: top;\n    }\n\n    .dataframe thead th {\n        text-align: right;\n    }\n</style>\n<table border=\"1\" class=\"dataframe\">\n  <thead>\n    <tr style=\"text-align: right;\">\n      <th></th>\n      <th>Weeks</th>\n      <th>Age</th>\n      <th>FVC</th>\n      <th>Percent</th>\n    </tr>\n  </thead>\n  <tbody>\n    <tr>\n      <th>count</th>\n      <td>1542.000000</td>\n      <td>1542.000000</td>\n      <td>1542.000000</td>\n      <td>1542.000000</td>\n    </tr>\n    <tr>\n      <th>mean</th>\n      <td>31.931907</td>\n      <td>67.192607</td>\n      <td>2691.263294</td>\n      <td>77.710239</td>\n    </tr>\n    <tr>\n      <th>std</th>\n      <td>23.229854</td>\n      <td>7.068397</td>\n      <td>833.927148</td>\n      <td>19.847108</td>\n    </tr>\n    <tr>\n      <th>min</th>\n      <td>-5.000000</td>\n      <td>49.000000</td>\n      <td>827.000000</td>\n      <td>28.877577</td>\n    </tr>\n    <tr>\n      <th>25%</th>\n      <td>12.000000</td>\n      <td>63.000000</td>\n      <td>2108.250000</td>\n      <td>62.840249</td>\n    </tr>\n    <tr>\n      <th>50%</th>\n      <td>28.000000</td>\n      <td>68.000000</td>\n      <td>2642.000000</td>\n      <td>75.677774</td>\n    </tr>\n    <tr>\n      <th>75%</th>\n      <td>47.000000</td>\n      <td>72.000000</td>\n      <td>3175.000000</td>\n      <td>88.650583</td>\n    </tr>\n    <tr>\n      <th>max</th>\n      <td>133.000000</td>\n      <td>88.000000</td>\n      <td>6399.000000</td>\n      <td>153.145378</td>\n    </tr>\n  </tbody>\n</table>\n</div>"
     },
     "metadata": {},
     "execution_count": 29
    }
   ],
   "source": [
    "train.describe()"
   ]
  },
  {
   "cell_type": "markdown",
   "metadata": {},
   "source": [
    "### Categorical encoding the Smoking Status\n",
    "Smoking Status is labelled as follows:<br>\n",
    "0  <-- Currently Smoking <br>\n",
    "1  <-- Ex-Smoker <br>\n",
    "2  <-- Never Smoked  <br>\n",
    "\n",
    "Sex is label encoded and then one hot encoded. <br>\n",
    "1 = Male  0 = Female\n"
   ]
  },
  {
   "cell_type": "code",
   "execution_count": null,
   "metadata": {},
   "outputs": [],
   "source": [
    "labelEnconder = prep.LabelEncoder()\n",
    "oneHotEncoder = prep.OneHotEncoder()\n",
    "\n",
    "data_set['SmokingStatus'] = labelEnconder.fit_transform(data_set['SmokingStatus'])\n",
    "data_set.head()\n",
    "\n"
   ]
  },
  {
   "cell_type": "code",
   "execution_count": null,
   "metadata": {},
   "outputs": [],
   "source": [
    "data_set.head()"
   ]
  },
  {
   "cell_type": "code",
   "execution_count": null,
   "metadata": {},
   "outputs": [],
   "source": [
    "# integerEncd = pd.get_dummies(data_set['Sex'], prefix=\"Sex\")\n",
    "\n",
    "# data_set = data_set.join(integerEncd)\n",
    "data_set = data_set.drop('Sex', axis=1)\n"
   ]
  },
  {
   "cell_type": "code",
   "execution_count": null,
   "metadata": {
    "tags": []
   },
   "outputs": [],
   "source": [
    "patient_db = pd.DataFrame()\n",
    "\n",
    "patient_db = data_set.drop_duplicates(subset = 'Patient').drop(['FVC', 'Percent' ], axis=1)\n",
    "print(\"Number of unique patient data: \", len(patient_db))\n",
    "\n",
    "patient_db.head()"
   ]
  },
  {
   "cell_type": "code",
   "execution_count": null,
   "metadata": {},
   "outputs": [],
   "source": [
    "#Checking for null enteries in database\n",
    "data_set[data_set.isnull().any(axis=1)].head()"
   ]
  },
  {
   "cell_type": "code",
   "execution_count": null,
   "metadata": {
    "tags": []
   },
   "outputs": [],
   "source": [
    "#Grouping Data by Patient ID for easy sorting\n",
    "\n",
    "grp = data_set.copy().groupby(['Patient'])\n",
    "\n",
    "patient_db[\"test_count\"] = grp[\"FVC\"].count().reset_index()[\"FVC\"]\n",
    "\n",
    "# patient_db[patient_db['test_count'].isnull()]  #Checking if counting is done properly\n",
    "patient_db"
   ]
  },
  {
   "cell_type": "code",
   "execution_count": null,
   "metadata": {
    "tags": []
   },
   "outputs": [],
   "source": [
    "print(patient_db.describe())"
   ]
  },
  {
   "cell_type": "markdown",
   "metadata": {},
   "source": [
    "## Patient Data Retrieval. <br>\n",
    "Change Patient ID to retrieve data"
   ]
  },
  {
   "cell_type": "code",
   "execution_count": null,
   "metadata": {},
   "outputs": [],
   "source": [
    "data_set.loc[data_set['Patient'] == 'ID00165637202237320314458']"
   ]
  },
  {
   "cell_type": "code",
   "execution_count": null,
   "metadata": {
    "tags": []
   },
   "outputs": [],
   "source": [
    "# sns.set(rc={'figure.figsize':(20,10 )})\n",
    "\n",
    "# f, ax = plt.subplots(figsize = [20,10])\n",
    "\n",
    "def best_fit_slope(xs,ys):\n",
    "    m = (((mean(xs)*mean(ys)) - mean(xs*ys)) /\n",
    "         ((mean(xs)**2) - mean(xs**2)))\n",
    "    return m\n",
    "\n",
    "bfl = []\n",
    "\n",
    "for id, d in grp:\n",
    "    bfl.append(best_fit_slope(d.Weeks, d.FVC))\n",
    "\n",
    "patient_db[\"rate_of_decent\"] = bfl\n",
    "\n",
    "patient_db.head()\n",
    "patient_db.describe()\n",
    "    # ax = sns.regplot (x=\"Weeks\", y=\"FVC\", data = d)\n"
   ]
  },
  {
   "cell_type": "markdown",
   "metadata": {},
   "source": [
    "### Histogram to denote the density of available records per patient"
   ]
  },
  {
   "cell_type": "code",
   "execution_count": null,
   "metadata": {},
   "outputs": [],
   "source": [
    "sns.distplot(patient_db['test_count'])  "
   ]
  },
  {
   "cell_type": "markdown",
   "metadata": {},
   "source": [
    "### Identifying the average deviation of first FVC reading from the date of scan"
   ]
  },
  {
   "cell_type": "code",
   "execution_count": null,
   "metadata": {},
   "outputs": [],
   "source": [
    "ax = sns.barplot(x='Weeks',y='Patient', data=patient_db.sort_values('Weeks'), palette=\"rocket\")\n",
    "ax.set(yticks= [])\n"
   ]
  },
  {
   "cell_type": "code",
   "execution_count": null,
   "metadata": {},
   "outputs": [],
   "source": [
    "patient_db"
   ]
  },
  {
   "cell_type": "code",
   "execution_count": null,
   "metadata": {
    "tags": []
   },
   "outputs": [],
   "source": [
    "from scipy.stats import pearsonr\n",
    "# from numpy import cov\n",
    "\n",
    "corr, _ = pearsonr(patient_db[\"rate_of_decent\"], patient_db[\"Age\"])\n",
    "print('Pearsons correlation: %.3f' % corr)"
   ]
  },
  {
   "cell_type": "code",
   "execution_count": null,
   "metadata": {},
   "outputs": [],
   "source": [
    "sns.heatmap(patient_db[['Age']])"
   ]
  },
  {
   "cell_type": "code",
   "execution_count": null,
   "metadata": {},
   "outputs": [],
   "source": []
  }
 ]
}